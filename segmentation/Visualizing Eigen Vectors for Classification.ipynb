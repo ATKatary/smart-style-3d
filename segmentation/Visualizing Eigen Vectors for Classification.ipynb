{
 "cells": [
  {
   "cell_type": "code",
   "execution_count": 1,
   "id": "e3db707e",
   "metadata": {},
   "outputs": [],
   "source": [
    "import numpy as np\n",
    "import scipy as sp\n",
    "from sklearn.decomposition import PCA \n",
    "import pandas as pd\n",
    "import matplotlib.pyplot as plt"
   ]
  },
  {
   "cell_type": "code",
   "execution_count": 2,
   "id": "779402a8",
   "metadata": {},
   "outputs": [],
   "source": [
    "imad = \"/home/ubuntu/imad\"\n",
    "models_dir = f\"{imad}/segmentation/models/\"\n",
    "formative_dir = f\"{imad}/formative_models_oriented\"\n",
    "model_dir = f\"{models_dir}/mdel_3/vectors_labels.npz\"\n",
    "figures_segmentation = f\"{imad}/segmentation/figures_segmentation\"\n",
    "figures_form_function = f\"{imad}/segmentation/figures_form_function\""
   ]
  },
  {
   "cell_type": "code",
   "execution_count": 3,
   "id": "04614709",
   "metadata": {},
   "outputs": [],
   "source": [
    "segmentation_labels_form_function = pd.read_csv(\"./Segmented_Models_Labeling.csv\")"
   ]
  },
  {
   "cell_type": "code",
   "execution_count": 4,
   "id": "817ffc05",
   "metadata": {},
   "outputs": [
    {
     "data": {
      "text/plain": [
       "Index(['Model', 'Segmented Part Number', 'Label', 'Unnamed: 3', 'Unnamed: 4'], dtype='object')"
      ]
     },
     "execution_count": 4,
     "metadata": {},
     "output_type": "execute_result"
    }
   ],
   "source": [
    "segmentation_labels_form_function.columns"
   ]
  },
  {
   "cell_type": "code",
   "execution_count": 5,
   "id": "d0850bf0",
   "metadata": {},
   "outputs": [],
   "source": [
    "models_that_work = [3, 4, 7, 16, 18, 19, 20, 22, 23, 24, 28, 33, 34, 36, 37, 38, 40, 42, 43, 46, 47, 49, 53, 57, 61, 64, 65, 66, 68, 69, 70, 76, 77, 79 , 83, 84, 85, 86, 88, 89, 90, 93, 94, 95, 97, 98, 99]"
   ]
  },
  {
   "cell_type": "code",
   "execution_count": 6,
   "id": "5047c96d",
   "metadata": {},
   "outputs": [
    {
     "name": "stdout",
     "output_type": "stream",
     "text": [
      "Finished 3\n",
      "Finished 4\n",
      "Finished 7\n",
      "Finished 16\n",
      "Finished 18\n",
      "Bad 19\n",
      "Finished 20\n",
      "Finished 22\n",
      "Finished 23\n",
      "Finished 24\n",
      "Finished 28\n",
      "Bad 33\n",
      "Finished 34\n",
      "Bad 36\n",
      "Finished 37\n",
      "Finished 38\n",
      "Finished 40\n",
      "Finished 42\n",
      "Finished 43\n",
      "Finished 46\n",
      "Finished 47\n",
      "Finished 49\n",
      "Finished 53\n",
      "Finished 57\n",
      "Finished 61\n",
      "Bad 64\n",
      "Finished 65\n",
      "Finished 66\n",
      "Bad 68\n",
      "Finished 69\n",
      "Finished 70\n",
      "Bad 76\n",
      "Finished 77\n",
      "Finished 79\n",
      "Finished 83\n",
      "Finished 84\n",
      "Finished 85\n",
      "Finished 86\n",
      "Bad 88\n",
      "Finished 89\n",
      "Finished 90\n",
      "Finished 93\n",
      "Finished 94\n",
      "Finished 95\n",
      "Bad 97\n",
      "Bad 98\n",
      "Finished 99\n"
     ]
    }
   ],
   "source": [
    "all_eigen_vectors = []\n",
    "all_original_seg_labels = []\n",
    "all_form_func_seg_labels = []\n",
    "for ele in models_that_work:\n",
    "    model_number = ele\n",
    "    b=np.load(f\"{formative_dir}/model_{model_number}/vectors_labels.npz\", allow_pickle=True)\n",
    "    results_dict = dict(enumerate(b['arr_0'].flatten(), 1))\n",
    "    eigen_vectors = results_dict[1]['vectors']\n",
    "    labels = results_dict[1]['labels']\n",
    "    eigen_values = results_dict[1]['values']\n",
    "    pca = PCA(n_components=2)\n",
    "    principalComponents = pca.fit_transform(eigen_vectors)\n",
    "    this_model_labels = segmentation_labels_form_function[segmentation_labels_form_function['Model'] == model_number]\n",
    "    if(this_model_labels.empty == True or this_model_labels[this_model_labels['Segmented Part Number'] == 0]['Label'].isna().values.any()):\n",
    "        print(f\"Bad {ele}\")\n",
    "        continue\n",
    "    this_model_labels_dict = {}\n",
    "    for ind, value in this_model_labels.iterrows():\n",
    "        if(value['Label'] == 'Form'):\n",
    "            this_model_labels_dict[value['Segmented Part Number']] = 0\n",
    "        if(value['Label'] == 'Function'):\n",
    "            this_model_labels_dict[value['Segmented Part Number']] = 1\n",
    "    form_function_labels = np.zeros(labels.shape[0], dtype='int8')\n",
    "    for index, value in enumerate(labels):\n",
    "        form_function_labels[index] = this_model_labels_dict[value]\n",
    "    all_eigen_vectors.extend(eigen_vectors)\n",
    "    all_original_seg_labels.extend(labels)\n",
    "    all_form_func_seg_labels.extend(form_function_labels)\n",
    "#     plt. clf()\n",
    "#     plt.scatter(principalComponents[:,0], principalComponents[:,1], c=labels)\n",
    "#     plt.savefig(f'{figures_segmentation}/model_{ele}')\n",
    "#     plt. clf()\n",
    "#     plt.scatter(principalComponents[:,0], principalComponents[:,1], c=form_function_labels)\n",
    "#     plt.savefig(f'{figures_form_function}/model_{ele}')\n",
    "#     plt. clf()\n",
    "    print(f\"Finished {ele}\")"
   ]
  },
  {
   "cell_type": "code",
   "execution_count": 7,
   "id": "eced2df4",
   "metadata": {},
   "outputs": [],
   "source": [
    "all_eigen_vectors = np.asarray(all_eigen_vectors)\n",
    "all_original_seg_labels = np.asarray(all_original_seg_labels)\n",
    "all_form_func_seg_labels = np.asarray(all_form_func_seg_labels)"
   ]
  },
  {
   "cell_type": "code",
   "execution_count": 8,
   "id": "a6cca488",
   "metadata": {},
   "outputs": [
    {
     "data": {
      "text/plain": [
       "(974506, 6)"
      ]
     },
     "execution_count": 8,
     "metadata": {},
     "output_type": "execute_result"
    }
   ],
   "source": [
    "all_eigen_vectors.shape"
   ]
  },
  {
   "cell_type": "markdown",
   "id": "6075a968",
   "metadata": {},
   "source": [
    "# Classification"
   ]
  },
  {
   "cell_type": "code",
   "execution_count": 21,
   "id": "6b269294",
   "metadata": {},
   "outputs": [],
   "source": [
    "from sklearn.neural_network import MLPClassifier\n",
    "from sklearn.datasets import make_classification\n",
    "from sklearn.model_selection import train_test_split"
   ]
  },
  {
   "cell_type": "code",
   "execution_count": 39,
   "id": "612e4885",
   "metadata": {
    "scrolled": true
   },
   "outputs": [
    {
     "name": "stdout",
     "output_type": "stream",
     "text": [
      "Iteration 1, loss = 0.32139403\n",
      "Iteration 2, loss = 0.16179209\n",
      "Iteration 3, loss = 0.11635813\n",
      "Iteration 4, loss = 0.09254435\n",
      "Iteration 5, loss = 0.07797819\n",
      "Iteration 6, loss = 0.06810868\n",
      "Iteration 7, loss = 0.06085653\n",
      "Iteration 8, loss = 0.05550378\n",
      "Iteration 9, loss = 0.05110983\n",
      "Iteration 10, loss = 0.04709209\n",
      "Iteration 11, loss = 0.04404671\n",
      "Iteration 12, loss = 0.04183627\n",
      "Iteration 13, loss = 0.03995031\n",
      "Iteration 14, loss = 0.03814428\n",
      "Iteration 15, loss = 0.03655129\n",
      "Iteration 16, loss = 0.03512920\n",
      "Iteration 17, loss = 0.03387850\n",
      "Iteration 18, loss = 0.03268734\n",
      "Iteration 19, loss = 0.03187257\n",
      "Iteration 20, loss = 0.03087236\n",
      "Iteration 21, loss = 0.02987839\n",
      "Iteration 22, loss = 0.02916381\n",
      "Iteration 23, loss = 0.02821043\n",
      "Iteration 24, loss = 0.02759380\n",
      "Iteration 25, loss = 0.02701243\n",
      "Iteration 26, loss = 0.02671084\n",
      "Iteration 27, loss = 0.02606926\n",
      "Iteration 28, loss = 0.02542014\n",
      "Iteration 29, loss = 0.02519103\n",
      "Iteration 30, loss = 0.02460533\n",
      "Iteration 31, loss = 0.02432462\n",
      "Iteration 32, loss = 0.02398413\n",
      "Iteration 33, loss = 0.02363711\n",
      "Iteration 34, loss = 0.02302193\n",
      "Iteration 35, loss = 0.02275650\n",
      "Iteration 36, loss = 0.02217784\n",
      "Iteration 37, loss = 0.02220239\n",
      "Iteration 38, loss = 0.02163696\n",
      "Iteration 39, loss = 0.02194699\n",
      "Iteration 40, loss = 0.02130347\n",
      "Iteration 41, loss = 0.02102148\n",
      "Iteration 42, loss = 0.02082577\n",
      "Iteration 43, loss = 0.02064215\n",
      "Iteration 44, loss = 0.02011645\n",
      "Iteration 45, loss = 0.02018574\n",
      "Iteration 46, loss = 0.01967486\n",
      "Iteration 47, loss = 0.01967328\n",
      "Iteration 48, loss = 0.01940327\n",
      "Iteration 49, loss = 0.01984719\n",
      "Iteration 50, loss = 0.01944141\n",
      "Iteration 51, loss = 0.01912604\n",
      "Iteration 52, loss = 0.01901480\n",
      "Iteration 53, loss = 0.01893772\n",
      "Iteration 54, loss = 0.01855841\n",
      "Iteration 55, loss = 0.01838560\n",
      "Iteration 56, loss = 0.01827717\n",
      "Iteration 57, loss = 0.01835743\n",
      "Iteration 58, loss = 0.01828352\n",
      "Iteration 59, loss = 0.01800702\n",
      "Iteration 60, loss = 0.01782669\n",
      "Iteration 61, loss = 0.01782337\n",
      "Iteration 62, loss = 0.01754423\n",
      "Iteration 63, loss = 0.01756164\n",
      "Iteration 64, loss = 0.01728169\n",
      "Iteration 65, loss = 0.01756711\n",
      "Iteration 66, loss = 0.01689191\n",
      "Iteration 67, loss = 0.01713884\n",
      "Iteration 68, loss = 0.01698075\n",
      "Iteration 69, loss = 0.01682066\n",
      "Iteration 70, loss = 0.01667433\n",
      "Iteration 71, loss = 0.01645505\n",
      "Iteration 72, loss = 0.01646548\n",
      "Iteration 73, loss = 0.01648855\n",
      "Iteration 74, loss = 0.01651769\n",
      "Iteration 75, loss = 0.01631649\n",
      "Iteration 76, loss = 0.01612305\n",
      "Iteration 77, loss = 0.01611983\n",
      "Iteration 78, loss = 0.01586045\n",
      "Iteration 79, loss = 0.01592637\n",
      "Iteration 80, loss = 0.01592625\n",
      "Iteration 81, loss = 0.01576529\n",
      "Iteration 82, loss = 0.01588956\n",
      "Iteration 83, loss = 0.01606142\n",
      "Iteration 84, loss = 0.01579935\n",
      "Iteration 85, loss = 0.01520949\n",
      "Iteration 86, loss = 0.01504033\n",
      "Iteration 87, loss = 0.01556453\n",
      "Iteration 88, loss = 0.01535794\n",
      "Iteration 89, loss = 0.01517463\n",
      "Iteration 90, loss = 0.01518922\n",
      "Iteration 91, loss = 0.01509128\n",
      "Iteration 92, loss = 0.01487683\n",
      "Iteration 93, loss = 0.01493568\n",
      "Iteration 94, loss = 0.01506922\n",
      "Iteration 95, loss = 0.01485440\n",
      "Iteration 96, loss = 0.01505739\n",
      "Iteration 97, loss = 0.01458698\n",
      "Iteration 98, loss = 0.01478902\n",
      "Iteration 99, loss = 0.01474297\n",
      "Iteration 100, loss = 0.01458084\n",
      "Iteration 101, loss = 0.01461347\n",
      "Iteration 102, loss = 0.01456115\n",
      "Iteration 103, loss = 0.01462119\n",
      "Iteration 104, loss = 0.01402596\n",
      "Iteration 105, loss = 0.01448768\n",
      "Iteration 106, loss = 0.01448156\n",
      "Iteration 107, loss = 0.01402935\n",
      "Iteration 108, loss = 0.01442250\n",
      "Iteration 109, loss = 0.01410961\n",
      "Iteration 110, loss = 0.01407571\n",
      "Iteration 111, loss = 0.01411173\n",
      "Iteration 112, loss = 0.01389394\n",
      "Iteration 113, loss = 0.01393184\n",
      "Iteration 114, loss = 0.01376791\n",
      "Iteration 115, loss = 0.01365822\n",
      "Iteration 116, loss = 0.01368256\n",
      "Iteration 117, loss = 0.01368331\n",
      "Iteration 118, loss = 0.01350415\n",
      "Iteration 119, loss = 0.01334952\n",
      "Iteration 120, loss = 0.01368417\n",
      "Iteration 121, loss = 0.01342389\n",
      "Iteration 122, loss = 0.01367933\n",
      "Iteration 123, loss = 0.01336509\n",
      "Iteration 124, loss = 0.01359657\n",
      "Iteration 125, loss = 0.01370990\n",
      "Iteration 126, loss = 0.01316809\n",
      "Iteration 127, loss = 0.01348282\n",
      "Iteration 128, loss = 0.01348329\n",
      "Iteration 129, loss = 0.01352508\n",
      "Iteration 130, loss = 0.01339803\n",
      "Iteration 131, loss = 0.01340894\n",
      "Iteration 132, loss = 0.01329809\n",
      "Iteration 133, loss = 0.01318274\n",
      "Iteration 134, loss = 0.01315425\n",
      "Iteration 135, loss = 0.01332474\n",
      "Iteration 136, loss = 0.01304829\n",
      "Iteration 137, loss = 0.01315288\n",
      "Iteration 138, loss = 0.01295612\n",
      "Iteration 139, loss = 0.01279736\n",
      "Iteration 140, loss = 0.01301080\n",
      "Iteration 141, loss = 0.01284101\n",
      "Iteration 142, loss = 0.01279499\n",
      "Iteration 143, loss = 0.01303116\n",
      "Iteration 144, loss = 0.01288994\n",
      "Iteration 145, loss = 0.01298964\n",
      "Iteration 146, loss = 0.01291731\n",
      "Iteration 147, loss = 0.01275679\n",
      "Iteration 148, loss = 0.01272995\n",
      "Iteration 149, loss = 0.01271958\n",
      "Iteration 150, loss = 0.01276745\n",
      "Training loss did not improve more than tol=0.000100 for 10 consecutive epochs. Stopping.\n"
     ]
    },
    {
     "data": {
      "text/plain": [
       "0.9962688864534719"
      ]
     },
     "execution_count": 39,
     "metadata": {},
     "output_type": "execute_result"
    }
   ],
   "source": [
    "# X, y = make_classification(n_samples=100, random_state=1)\n",
    "X_train, X_test, y_train, y_test = train_test_split(all_eigen_vectors, all_form_func_seg_labels, test_size=0.25,\n",
    "                                                    random_state=42)\n",
    "clf = MLPClassifier(random_state=42, max_iter=300, hidden_layer_sizes=(100,100), verbose=True).fit(X_train, y_train)\n",
    "clf.predict_proba(X_test[:1])\n",
    "\n",
    "clf.predict(X_test[:5, :])\n",
    "\n",
    "clf.score(X_test, y_test)"
   ]
  },
  {
   "cell_type": "code",
   "execution_count": 40,
   "id": "1a5fadf7",
   "metadata": {},
   "outputs": [
    {
     "data": {
      "text/plain": [
       "array([1, 1, 0, ..., 1, 1, 1], dtype=int8)"
      ]
     },
     "execution_count": 40,
     "metadata": {},
     "output_type": "execute_result"
    }
   ],
   "source": [
    "clf.predict(X_test)"
   ]
  },
  {
   "cell_type": "code",
   "execution_count": 41,
   "id": "aa16a401",
   "metadata": {},
   "outputs": [
    {
     "data": {
      "text/plain": [
       "(243627, 6)"
      ]
     },
     "execution_count": 41,
     "metadata": {},
     "output_type": "execute_result"
    }
   ],
   "source": [
    "X_test.shape"
   ]
  },
  {
   "cell_type": "code",
   "execution_count": 43,
   "id": "f91b01e1",
   "metadata": {},
   "outputs": [
    {
     "data": {
      "text/plain": [
       "(974506, 6)"
      ]
     },
     "execution_count": 43,
     "metadata": {},
     "output_type": "execute_result"
    }
   ],
   "source": [
    "all_eigen_vectors.shape"
   ]
  },
  {
   "cell_type": "code",
   "execution_count": 46,
   "id": "14bf0697",
   "metadata": {},
   "outputs": [],
   "source": [
    "import pickle\n",
    "filename = 'form_function_segmentation_model.sav'\n",
    "pickle.dump(clf, open(filename, 'wb'))"
   ]
  },
  {
   "cell_type": "code",
   "execution_count": 48,
   "id": "dbc8dce6",
   "metadata": {},
   "outputs": [],
   "source": [
    "loaded_model = pickle.load(open(filename, 'rb'))\n",
    "result = loaded_model.predict(X_test)"
   ]
  },
  {
   "cell_type": "code",
   "execution_count": 49,
   "id": "1fe78c2a",
   "metadata": {},
   "outputs": [
    {
     "data": {
      "text/plain": [
       "array([1, 1, 0, ..., 1, 1, 1], dtype=int8)"
      ]
     },
     "execution_count": 49,
     "metadata": {},
     "output_type": "execute_result"
    }
   ],
   "source": [
    "result\n"
   ]
  },
  {
   "cell_type": "code",
   "execution_count": 50,
   "id": "3032b127",
   "metadata": {},
   "outputs": [],
   "source": [
    "this_model_labels = segmentation_labels_form_function[segmentation_labels_form_function['Model'] == model_number]"
   ]
  },
  {
   "cell_type": "code",
   "execution_count": 51,
   "id": "ab8e7a8d",
   "metadata": {},
   "outputs": [
    {
     "data": {
      "text/html": [
       "<div>\n",
       "<style scoped>\n",
       "    .dataframe tbody tr th:only-of-type {\n",
       "        vertical-align: middle;\n",
       "    }\n",
       "\n",
       "    .dataframe tbody tr th {\n",
       "        vertical-align: top;\n",
       "    }\n",
       "\n",
       "    .dataframe thead th {\n",
       "        text-align: right;\n",
       "    }\n",
       "</style>\n",
       "<table border=\"1\" class=\"dataframe\">\n",
       "  <thead>\n",
       "    <tr style=\"text-align: right;\">\n",
       "      <th></th>\n",
       "      <th>Model</th>\n",
       "      <th>Segmented Part Number</th>\n",
       "      <th>Label</th>\n",
       "      <th>Unnamed: 3</th>\n",
       "      <th>Unnamed: 4</th>\n",
       "    </tr>\n",
       "  </thead>\n",
       "  <tbody>\n",
       "    <tr>\n",
       "      <th>585</th>\n",
       "      <td>99.0</td>\n",
       "      <td>0.0</td>\n",
       "      <td>Form</td>\n",
       "      <td>Form</td>\n",
       "      <td>NaN</td>\n",
       "    </tr>\n",
       "    <tr>\n",
       "      <th>586</th>\n",
       "      <td>99.0</td>\n",
       "      <td>1.0</td>\n",
       "      <td>Function</td>\n",
       "      <td>Function</td>\n",
       "      <td>NaN</td>\n",
       "    </tr>\n",
       "    <tr>\n",
       "      <th>587</th>\n",
       "      <td>99.0</td>\n",
       "      <td>2.0</td>\n",
       "      <td>Function</td>\n",
       "      <td>NaN</td>\n",
       "      <td>NaN</td>\n",
       "    </tr>\n",
       "    <tr>\n",
       "      <th>588</th>\n",
       "      <td>99.0</td>\n",
       "      <td>3.0</td>\n",
       "      <td>Function</td>\n",
       "      <td>Bad</td>\n",
       "      <td>NaN</td>\n",
       "    </tr>\n",
       "    <tr>\n",
       "      <th>589</th>\n",
       "      <td>99.0</td>\n",
       "      <td>4.0</td>\n",
       "      <td>Function</td>\n",
       "      <td>NaN</td>\n",
       "      <td>NaN</td>\n",
       "    </tr>\n",
       "    <tr>\n",
       "      <th>590</th>\n",
       "      <td>99.0</td>\n",
       "      <td>5.0</td>\n",
       "      <td>Form</td>\n",
       "      <td>NaN</td>\n",
       "      <td>NaN</td>\n",
       "    </tr>\n",
       "    <tr>\n",
       "      <th>591</th>\n",
       "      <td>99.0</td>\n",
       "      <td>6.0</td>\n",
       "      <td>Form</td>\n",
       "      <td>NaN</td>\n",
       "      <td>NaN</td>\n",
       "    </tr>\n",
       "    <tr>\n",
       "      <th>592</th>\n",
       "      <td>99.0</td>\n",
       "      <td>7.0</td>\n",
       "      <td>Function</td>\n",
       "      <td>NaN</td>\n",
       "      <td>NaN</td>\n",
       "    </tr>\n",
       "    <tr>\n",
       "      <th>593</th>\n",
       "      <td>99.0</td>\n",
       "      <td>8.0</td>\n",
       "      <td>Form</td>\n",
       "      <td>NaN</td>\n",
       "      <td>NaN</td>\n",
       "    </tr>\n",
       "    <tr>\n",
       "      <th>594</th>\n",
       "      <td>99.0</td>\n",
       "      <td>9.0</td>\n",
       "      <td>Form</td>\n",
       "      <td>NaN</td>\n",
       "      <td>NaN</td>\n",
       "    </tr>\n",
       "    <tr>\n",
       "      <th>595</th>\n",
       "      <td>99.0</td>\n",
       "      <td>10.0</td>\n",
       "      <td>Function</td>\n",
       "      <td>NaN</td>\n",
       "      <td>NaN</td>\n",
       "    </tr>\n",
       "    <tr>\n",
       "      <th>596</th>\n",
       "      <td>99.0</td>\n",
       "      <td>11.0</td>\n",
       "      <td>Function</td>\n",
       "      <td>NaN</td>\n",
       "      <td>NaN</td>\n",
       "    </tr>\n",
       "  </tbody>\n",
       "</table>\n",
       "</div>"
      ],
      "text/plain": [
       "     Model  Segmented Part Number     Label Unnamed: 3 Unnamed: 4\n",
       "585   99.0                    0.0      Form       Form        NaN\n",
       "586   99.0                    1.0  Function   Function        NaN\n",
       "587   99.0                    2.0  Function        NaN        NaN\n",
       "588   99.0                    3.0  Function        Bad        NaN\n",
       "589   99.0                    4.0  Function        NaN        NaN\n",
       "590   99.0                    5.0      Form        NaN        NaN\n",
       "591   99.0                    6.0      Form        NaN        NaN\n",
       "592   99.0                    7.0  Function        NaN        NaN\n",
       "593   99.0                    8.0      Form        NaN        NaN\n",
       "594   99.0                    9.0      Form        NaN        NaN\n",
       "595   99.0                   10.0  Function        NaN        NaN\n",
       "596   99.0                   11.0  Function        NaN        NaN"
      ]
     },
     "execution_count": 51,
     "metadata": {},
     "output_type": "execute_result"
    }
   ],
   "source": [
    "this_model_labels"
   ]
  },
  {
   "cell_type": "code",
   "execution_count": 53,
   "id": "2e421ea1",
   "metadata": {},
   "outputs": [
    {
     "data": {
      "text/plain": [
       "array([1, 1, 1, 1, 1, 0, 0, 1, 1, 1, 1, 1], dtype=int8)"
      ]
     },
     "execution_count": 53,
     "metadata": {},
     "output_type": "execute_result"
    }
   ],
   "source": [
    "all_form_func_seg_labels[-12:]"
   ]
  },
  {
   "cell_type": "code",
   "execution_count": 54,
   "id": "6bac0ebe",
   "metadata": {},
   "outputs": [
    {
     "data": {
      "text/plain": [
       "array([11, 11, 11, ...,  3,  7,  1], dtype=int32)"
      ]
     },
     "execution_count": 54,
     "metadata": {},
     "output_type": "execute_result"
    }
   ],
   "source": [
    "labels"
   ]
  },
  {
   "cell_type": "code",
   "execution_count": 56,
   "id": "cd30d32d",
   "metadata": {},
   "outputs": [
    {
     "data": {
      "text/plain": [
       "{0.0: 0,\n",
       " 1.0: 1,\n",
       " 2.0: 1,\n",
       " 3.0: 1,\n",
       " 4.0: 1,\n",
       " 5.0: 0,\n",
       " 6.0: 0,\n",
       " 7.0: 1,\n",
       " 8.0: 0,\n",
       " 9.0: 0,\n",
       " 10.0: 1,\n",
       " 11.0: 1}"
      ]
     },
     "execution_count": 56,
     "metadata": {},
     "output_type": "execute_result"
    }
   ],
   "source": [
    "this_model_labels_dict"
   ]
  },
  {
   "cell_type": "code",
   "execution_count": 68,
   "id": "aa08e739",
   "metadata": {},
   "outputs": [],
   "source": [
    "this_form_function_labels = np.zeros(labels.shape[0], dtype='int8')\n",
    "for index, value in enumerate(labels):\n",
    "    this_form_function_labels[index] = this_model_labels_dict[value]"
   ]
  },
  {
   "cell_type": "code",
   "execution_count": 58,
   "id": "1b2f3032",
   "metadata": {},
   "outputs": [
    {
     "data": {
      "text/plain": [
       "(28978,)"
      ]
     },
     "execution_count": 58,
     "metadata": {},
     "output_type": "execute_result"
    }
   ],
   "source": [
    "form_function_labels.shape"
   ]
  },
  {
   "cell_type": "code",
   "execution_count": 59,
   "id": "5685a2b2",
   "metadata": {},
   "outputs": [],
   "source": [
    "b=np.load(f\"{formative_dir}/model_99/vectors_labels.npz\", allow_pickle=True)\n",
    "results_dict = dict(enumerate(b['arr_0'].flatten(), 1))\n",
    "eigen_vectors = results_dict[1]['vectors']\n",
    "labels = results_dict[1]['labels']\n",
    "eigen_values = results_dict[1]['values']"
   ]
  },
  {
   "cell_type": "code",
   "execution_count": 61,
   "id": "868cee80",
   "metadata": {
    "scrolled": true
   },
   "outputs": [
    {
     "data": {
      "text/plain": [
       "array([11, 11, 11, ...,  3,  7,  1], dtype=int32)"
      ]
     },
     "execution_count": 61,
     "metadata": {},
     "output_type": "execute_result"
    }
   ],
   "source": [
    "labels"
   ]
  },
  {
   "cell_type": "code",
   "execution_count": 67,
   "id": "983c2125",
   "metadata": {},
   "outputs": [
    {
     "data": {
      "text/plain": [
       "(28978, 6)"
      ]
     },
     "execution_count": 67,
     "metadata": {},
     "output_type": "execute_result"
    }
   ],
   "source": [
    "eigen_vectors.shape"
   ]
  },
  {
   "cell_type": "code",
   "execution_count": 62,
   "id": "793a5293",
   "metadata": {},
   "outputs": [],
   "source": [
    "res = loaded_model.predict(eigen_vectors)"
   ]
  },
  {
   "cell_type": "code",
   "execution_count": 63,
   "id": "9fb7f1e5",
   "metadata": {},
   "outputs": [
    {
     "data": {
      "text/plain": [
       "array([1, 1, 1, ..., 1, 1, 1], dtype=int8)"
      ]
     },
     "execution_count": 63,
     "metadata": {},
     "output_type": "execute_result"
    }
   ],
   "source": [
    "res"
   ]
  },
  {
   "cell_type": "code",
   "execution_count": 69,
   "id": "5534486f",
   "metadata": {},
   "outputs": [],
   "source": [
    "result = loaded_model.score(eigen_vectors, this_form_function_labels)"
   ]
  },
  {
   "cell_type": "code",
   "execution_count": 70,
   "id": "cb07a0e3",
   "metadata": {},
   "outputs": [
    {
     "data": {
      "text/plain": [
       "0.9953758023328042"
      ]
     },
     "execution_count": 70,
     "metadata": {},
     "output_type": "execute_result"
    }
   ],
   "source": [
    "result"
   ]
  },
  {
   "cell_type": "code",
   "execution_count": null,
   "id": "7ec5126a",
   "metadata": {},
   "outputs": [],
   "source": []
  }
 ],
 "metadata": {
  "kernelspec": {
   "display_name": "Python3 (ss3d)",
   "language": "python",
   "name": "ss3d"
  },
  "language_info": {
   "codemirror_mode": {
    "name": "ipython",
    "version": 3
   },
   "file_extension": ".py",
   "mimetype": "text/x-python",
   "name": "python",
   "nbconvert_exporter": "python",
   "pygments_lexer": "ipython3",
   "version": "3.9.13"
  }
 },
 "nbformat": 4,
 "nbformat_minor": 5
}

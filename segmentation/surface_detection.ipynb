{
 "cells": [
  {
   "cell_type": "markdown",
   "id": "d7a39a66",
   "metadata": {},
   "source": [
    "# 3D Surface Detection"
   ]
  },
  {
   "cell_type": "markdown",
   "id": "ecccac28",
   "metadata": {},
   "source": [
    "#### Imports"
   ]
  },
  {
   "cell_type": "code",
   "execution_count": 1,
   "id": "4589cf8a",
   "metadata": {},
   "outputs": [],
   "source": [
    "import torch\n",
    "import scipy\n",
    "import pymeshlab\n",
    "import numpy as np\n",
    "from tqdm import tqdm\n",
    "from kaolin.io.obj import (import_mesh)\n",
    "from segmentation_utils.base_detection import (\n",
    "    _check_mesh\n",
    ")\n",
    "from segmentation_utils.surface_detection import (\n",
    "    MeshGraph,\n",
    "    _save_obj,\n",
    "    _extract_vertices_and_faces\n",
    ")"
   ]
  },
  {
   "cell_type": "code",
   "execution_count": 2,
   "id": "ba26230c",
   "metadata": {},
   "outputs": [
    {
     "name": "stdout",
     "output_type": "stream",
     "text": [
      "\u001b[92mSuccess[/home/ubuntu/imad/segmentation/models/vases/vase_1/vase.obj is good!]: Number of verticies (21311) == the number of normals (21311)\u001b[0m\n"
     ]
    }
   ],
   "source": [
    "# Assumption is model is positioned such that base has it's y-coordinate minimized\n",
    "imad = \"/home/ubuntu/imad\"\n",
    "models_dir = f\"{imad}/segmentation/models\"\n",
    "fomrative_dir = f\"{imad}/formative_models_oriented\"\n",
    "\n",
    "mesh_dir = f\"{models_dir}/vases/vase_1\"\n",
    "mesh_path = f\"{mesh_dir}/vase.obj\"\n",
    "open_mesh_path = f\"{mesh_dir}/open_mesh.obj\"\n",
    "\n",
    "_check_mesh(mesh_path)\n",
    "\n",
    "mesh_set = pymeshlab.MeshSet()"
   ]
  },
  {
   "cell_type": "markdown",
   "id": "09dc1698",
   "metadata": {},
   "source": [
    "#### Loading mesh"
   ]
  },
  {
   "cell_type": "code",
   "execution_count": 3,
   "id": "991e09c9",
   "metadata": {},
   "outputs": [
    {
     "name": "stdout",
     "output_type": "stream",
     "text": [
      "Constructed mesh graph with 21311 vertices and 149165 edges\n"
     ]
    }
   ],
   "source": [
    "mesh_set.load_new_mesh(mesh_path)\n",
    "mesh = mesh_set.current_mesh()\n",
    "vertices = mesh.vertex_matrix()\n",
    "faces = mesh.face_matrix()\n",
    "\n",
    "mesh_graph = MeshGraph(vertices, faces)"
   ]
  },
  {
   "cell_type": "code",
   "execution_count": 4,
   "id": "1ea4d120",
   "metadata": {},
   "outputs": [
    {
     "name": "stdout",
     "output_type": "stream",
     "text": [
      "Beginning walk from vertex located at (3.6245, -0.476356 -0.742012) with an epsilon of 1 with a limit of 1000 ...\n"
     ]
    }
   ],
   "source": [
    "e = 1\n",
    "v0 = mesh_graph.graph\n",
    "surfaces = mesh_graph.walk(v0, e)"
   ]
  },
  {
   "cell_type": "code",
   "execution_count": 5,
   "id": "4569bfcb",
   "metadata": {},
   "outputs": [
    {
     "name": "stdout",
     "output_type": "stream",
     "text": [
      "Saving surface 0 ...\n",
      "Saving surface 1 ...\n",
      "Saving surface 2 ...\n",
      "Saving surface 3 ...\n",
      "Saving surface 4 ...\n",
      "Saving surface 5 ...\n"
     ]
    }
   ],
   "source": [
    "i = 0\n",
    "output_dir = f\"{segmentation_dir}/experiments\"\n",
    "for _, vertex_list in surfaces.items():\n",
    "    vertices, faces = _extract_vertices_and_faces(mesh, vertex_list)\n",
    "    print(f\"Saving surface {i} ...\")\n",
    "    _save_obj(vertices, faces, f\"{output_dir}/surface_{i}.obj\")\n",
    "    i += 1"
   ]
  },
  {
   "cell_type": "code",
   "execution_count": null,
   "id": "0d628347",
   "metadata": {},
   "outputs": [],
   "source": []
  }
 ],
 "metadata": {
  "kernelspec": {
   "display_name": "Python3 (ss3d)",
   "language": "python",
   "name": "ss3d"
  },
  "language_info": {
   "codemirror_mode": {
    "name": "ipython",
    "version": 3
   },
   "file_extension": ".py",
   "mimetype": "text/x-python",
   "name": "python",
   "nbconvert_exporter": "python",
   "pygments_lexer": "ipython3",
   "version": "3.9.13"
  }
 },
 "nbformat": 4,
 "nbformat_minor": 5
}

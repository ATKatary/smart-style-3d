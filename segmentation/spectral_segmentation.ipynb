{
 "cells": [
  {
   "cell_type": "code",
   "execution_count": 1,
   "id": "f870c4c5",
   "metadata": {},
   "outputs": [],
   "source": [
    "import pymeshlab\n",
    "import numpy as np\n",
    "from tqdm import tqdm\n",
    "from segment import segment_mesh"
   ]
  },
  {
   "cell_type": "code",
   "execution_count": 2,
   "id": "83e854f1",
   "metadata": {},
   "outputs": [],
   "source": [
    "imad = \"/home/ubuntu/imad\"\n",
    "models_dir = f\"{imad}/segmentation/decimated\"\n",
    "fomrative_dir = f\"{imad}/formative_models_oriented\"\n",
    "\n",
    "mesh_dir = f\"{models_dir}\"\n",
    "mesh_path = f\"{mesh_dir}/model_\"\n",
    "\n",
    "colors = [[1, 1, 1, 1], [1, 0, 0, 1], [0, 1, 0, 1], [0, 0, 1, 1], [1, 0.8, 1, 1], [1, 0.1, 0.6, 1], [1, 0.647, 0, 1]]"
   ]
  },
  {
   "cell_type": "code",
   "execution_count": 4,
   "id": "356254af",
   "metadata": {},
   "outputs": [
    {
     "name": "stdout",
     "output_type": "stream",
     "text": [
      "----- Computing face adj ... ------\n"
     ]
    },
    {
     "name": "stderr",
     "output_type": "stream",
     "text": [
      "100%|█████████████████████████████████████████████████████████████████████████████████████████████████████████████████████████████████████████████████████████████████| 27366/27366 [00:00<00:00, 111495.77it/s]\n"
     ]
    },
    {
     "name": "stdout",
     "output_type": "stream",
     "text": [
      "------ Computing avg_geodisc and avg_ang_dist matrix + face_objs graph ... ------\n"
     ]
    },
    {
     "name": "stderr",
     "output_type": "stream",
     "text": [
      "100%|███████████████████████████████████████████████████████████████████████████████████████████████████████████████████████████████████████████████████████████████████| 41049/41049 [00:05<00:00, 8125.87it/s]\n"
     ]
    },
    {
     "name": "stdout",
     "output_type": "stream",
     "text": [
      "[avg_geodisc] >> 0.536698283015886\n",
      "[avg_ang_dist] >> 0.04856323989000273\n",
      "------ Computing face graph adjacency matrix ... ------\n",
      "Written labels and vectors to:/home/ubuntu/imad/segmentation/decimated_sims/vectors_labels.npz\n"
     ]
    },
    {
     "name": "stderr",
     "output_type": "stream",
     "text": [
      "LOG: 1 Error encountered while loading file:\n",
      "\"model_3.obj\"\n",
      "\n",
      "Error details: Some materials definitions were not found, a default white material is used where no material was available\n"
     ]
    },
    {
     "name": "stdout",
     "output_type": "stream",
     "text": [
      "----- Computing face adj ... ------\n"
     ]
    },
    {
     "name": "stderr",
     "output_type": "stream",
     "text": [
      "100%|███████████████████████████████████████████████████████████████████████████████████████████████████████████████████████████████████████████████████████████████████| 6860/6860 [00:00<00:00, 128947.35it/s]\n"
     ]
    },
    {
     "name": "stdout",
     "output_type": "stream",
     "text": [
      "------ Computing avg_geodisc and avg_ang_dist matrix + face_objs graph ... ------\n"
     ]
    },
    {
     "name": "stderr",
     "output_type": "stream",
     "text": [
      "100%|███████████████████████████████████████████████████████████████████████████████████████████████████████████████████████████████████████████████████████████████████| 10290/10290 [00:01<00:00, 8071.24it/s]\n"
     ]
    },
    {
     "name": "stdout",
     "output_type": "stream",
     "text": [
      "[avg_geodisc] >> 2.6026230608375696\n",
      "[avg_ang_dist] >> 0.08237569220267366\n",
      "------ Computing face graph adjacency matrix ... ------\n",
      "Failed to segment model 3\n",
      "----- Computing face adj ... ------\n"
     ]
    },
    {
     "name": "stderr",
     "output_type": "stream",
     "text": [
      "100%|█████████████████████████████████████████████████████████████████████████████████████████████████████████████████████████████████████████████████████████████████| 10372/10372 [00:00<00:00, 132598.52it/s]"
     ]
    },
    {
     "name": "stdout",
     "output_type": "stream",
     "text": [
      "------ Computing avg_geodisc and avg_ang_dist matrix + face_objs graph ... ------\n"
     ]
    },
    {
     "name": "stderr",
     "output_type": "stream",
     "text": [
      "\n",
      "100%|███████████████████████████████████████████████████████████████████████████████████████████████████████████████████████████████████████████████████████████████████| 15558/15558 [00:01<00:00, 8079.06it/s]\n"
     ]
    },
    {
     "name": "stdout",
     "output_type": "stream",
     "text": [
      "[avg_geodisc] >> 0.22516977746935365\n",
      "[avg_ang_dist] >> 0.034356540746747856\n",
      "------ Computing face graph adjacency matrix ... ------\n",
      "Failed to segment model 4\n",
      "----- Computing face adj ... ------\n"
     ]
    },
    {
     "name": "stderr",
     "output_type": "stream",
     "text": [
      "100%|█████████████████████████████████████████████████████████████████████████████████████████████████████████████████████████████████████████████████████████████████| 26362/26362 [00:00<00:00, 105263.79it/s]\n"
     ]
    },
    {
     "name": "stdout",
     "output_type": "stream",
     "text": [
      "------ Computing avg_geodisc and avg_ang_dist matrix + face_objs graph ... ------\n"
     ]
    },
    {
     "name": "stderr",
     "output_type": "stream",
     "text": [
      " 82%|█████████████████████████████████████████████████████████████████████████████████████████████████████████████████████████████████████▌                             | 32395/39543 [00:04<00:00, 7537.02it/s]/home/ubuntu/imad/segmentation/face_graph.py:126: RuntimeWarning: invalid value encountered in double_scalars\n",
      "  cos_alpha = np.dot(face_1_normal, face_2_normal) / np.linalg.norm(face_1_normal) / np.linalg.norm(face_2_normal)\n",
      "100%|███████████████████████████████████████████████████████████████████████████████████████████████████████████████████████████████████████████████████████████████████| 39543/39543 [00:04<00:00, 7915.14it/s]\n"
     ]
    },
    {
     "name": "stdout",
     "output_type": "stream",
     "text": [
      "[avg_geodisc] >> 1.0277173692138728\n",
      "[avg_ang_dist] >> nan\n",
      "------ Computing face graph adjacency matrix ... ------\n",
      "Failed to segment model 5\n",
      "----- Computing face adj ... ------\n"
     ]
    },
    {
     "name": "stderr",
     "output_type": "stream",
     "text": [
      "100%|███████████████████████████████████████████████████████████████████████████████████████████████████████████████████████████████████████████████████████████████████| 7584/7584 [00:00<00:00, 127508.72it/s]\n"
     ]
    },
    {
     "name": "stdout",
     "output_type": "stream",
     "text": [
      "------ Computing avg_geodisc and avg_ang_dist matrix + face_objs graph ... ------\n"
     ]
    },
    {
     "name": "stderr",
     "output_type": "stream",
     "text": [
      "100%|███████████████████████████████████████████████████████████████████████████████████████████████████████████████████████████████████████████████████████████████████| 11376/11376 [00:01<00:00, 7956.60it/s]\n"
     ]
    },
    {
     "name": "stdout",
     "output_type": "stream",
     "text": [
      "[avg_geodisc] >> 1.3833116513701034\n",
      "[avg_ang_dist] >> 0.07034851585822922\n",
      "------ Computing face graph adjacency matrix ... ------\n",
      "Failed to segment model 6\n",
      "----- Computing face adj ... ------\n"
     ]
    },
    {
     "name": "stderr",
     "output_type": "stream",
     "text": [
      "100%|██████████████████████████████████████████████████████████████████████████████████████████████████████████████████████████████████████████████████████████████████| 17252/17252 [00:00<00:00, 79772.16it/s]\n"
     ]
    },
    {
     "name": "stdout",
     "output_type": "stream",
     "text": [
      "------ Computing avg_geodisc and avg_ang_dist matrix + face_objs graph ... ------\n"
     ]
    },
    {
     "name": "stderr",
     "output_type": "stream",
     "text": [
      "100%|███████████████████████████████████████████████████████████████████████████████████████████████████████████████████████████████████████████████████████████████████| 25878/25878 [00:03<00:00, 7957.49it/s]\n"
     ]
    },
    {
     "name": "stdout",
     "output_type": "stream",
     "text": [
      "[avg_geodisc] >> 0.3265121629421271\n",
      "[avg_ang_dist] >> 0.04210473650271924\n",
      "------ Computing face graph adjacency matrix ... ------\n",
      "Failed to segment model 7\n",
      "----- Computing face adj ... ------\n"
     ]
    },
    {
     "name": "stderr",
     "output_type": "stream",
     "text": [
      "100%|██████████████████████████████████████████████████████████████████████████████████████████████████████████████████████████████████████████████████████████████████| 10194/10194 [00:00<00:00, 76575.57it/s]"
     ]
    },
    {
     "name": "stdout",
     "output_type": "stream",
     "text": [
      "------ Computing avg_geodisc and avg_ang_dist matrix + face_objs graph ... ------\n"
     ]
    },
    {
     "name": "stderr",
     "output_type": "stream",
     "text": [
      "\n",
      "100%|███████████████████████████████████████████████████████████████████████████████████████████████████████████████████████████████████████████████████████████████████| 15291/15291 [00:01<00:00, 8123.53it/s]\n"
     ]
    },
    {
     "name": "stdout",
     "output_type": "stream",
     "text": [
      "[avg_geodisc] >> 2.9464279432008986\n",
      "[avg_ang_dist] >> 0.35365794453133204\n",
      "------ Computing face graph adjacency matrix ... ------\n",
      "Failed to segment model 8\n",
      "----- Computing face adj ... ------\n"
     ]
    },
    {
     "name": "stderr",
     "output_type": "stream",
     "text": [
      "100%|████████████████████████████████████████████████████████████████████████████████████████████████████████████████████████████████████████████████████████████████████| 8573/8573 [00:00<00:00, 76407.70it/s]\n"
     ]
    },
    {
     "name": "stdout",
     "output_type": "stream",
     "text": [
      "------ Computing avg_geodisc and avg_ang_dist matrix + face_objs graph ... ------\n"
     ]
    },
    {
     "name": "stderr",
     "output_type": "stream",
     "text": [
      " 13%|████████████████████▊                                                                                                                                               | 1634/12865 [00:00<00:01, 7826.34it/s]\n"
     ]
    },
    {
     "name": "stdout",
     "output_type": "stream",
     "text": [
      "Failed to segment model 9\n",
      "----- Computing face adj ... ------\n"
     ]
    },
    {
     "name": "stderr",
     "output_type": "stream",
     "text": [
      "100%|██████████████████████████████████████████████████████████████████████████████████████████████████████████████████████████████████████████████████████████████████| 23584/23584 [00:00<00:00, 91654.74it/s]\n"
     ]
    },
    {
     "name": "stdout",
     "output_type": "stream",
     "text": [
      "------ Computing avg_geodisc and avg_ang_dist matrix + face_objs graph ... ------\n"
     ]
    },
    {
     "name": "stderr",
     "output_type": "stream",
     "text": [
      "100%|███████████████████████████████████████████████████████████████████████████████████████████████████████████████████████████████████████████████████████████████████| 35376/35376 [00:04<00:00, 7930.63it/s]\n"
     ]
    },
    {
     "name": "stdout",
     "output_type": "stream",
     "text": [
      "[avg_geodisc] >> 5.083083258432748\n",
      "[avg_ang_dist] >> 0.1562477964393867\n",
      "------ Computing face graph adjacency matrix ... ------\n",
      "Failed to segment model 10\n",
      "----- Computing face adj ... ------\n"
     ]
    },
    {
     "name": "stderr",
     "output_type": "stream",
     "text": [
      "100%|██████████████████████████████████████████████████████████████████████████████████████████████████████████████████████████████████████████████████████████████████| 16971/16971 [00:00<00:00, 82749.21it/s]\n"
     ]
    },
    {
     "name": "stdout",
     "output_type": "stream",
     "text": [
      "------ Computing avg_geodisc and avg_ang_dist matrix + face_objs graph ... ------\n"
     ]
    },
    {
     "name": "stderr",
     "output_type": "stream",
     "text": [
      "  1%|█▍                                                                                                                                                                   | 212/25423 [00:00<00:03, 7435.71it/s]\n"
     ]
    },
    {
     "name": "stdout",
     "output_type": "stream",
     "text": [
      "Failed to segment model 11\n",
      "----- Computing face adj ... ------\n"
     ]
    },
    {
     "name": "stderr",
     "output_type": "stream",
     "text": [
      "100%|██████████████████████████████████████████████████████████████████████████████████████████████████████████████████████████████████████████████████████████████████| 14362/14362 [00:00<00:00, 97769.77it/s]\n"
     ]
    },
    {
     "name": "stdout",
     "output_type": "stream",
     "text": [
      "------ Computing avg_geodisc and avg_ang_dist matrix + face_objs graph ... ------\n"
     ]
    },
    {
     "name": "stderr",
     "output_type": "stream",
     "text": [
      "100%|███████████████████████████████████████████████████████████████████████████████████████████████████████████████████████████████████████████████████████████████████| 21543/21543 [00:02<00:00, 8079.06it/s]\n"
     ]
    },
    {
     "name": "stdout",
     "output_type": "stream",
     "text": [
      "[avg_geodisc] >> 2.4736901136728644\n",
      "[avg_ang_dist] >> 0.19891193033384622\n",
      "------ Computing face graph adjacency matrix ... ------\n",
      "Failed to segment model 12\n",
      "----- Computing face adj ... ------\n"
     ]
    },
    {
     "name": "stderr",
     "output_type": "stream",
     "text": [
      "100%|██████████████████████████████████████████████████████████████████████████████████████████████████████████████████████████████████████████████████████████████████| 44780/44780 [00:00<00:00, 97394.46it/s]\n"
     ]
    },
    {
     "name": "stdout",
     "output_type": "stream",
     "text": [
      "------ Computing avg_geodisc and avg_ang_dist matrix + face_objs graph ... ------\n"
     ]
    },
    {
     "name": "stderr",
     "output_type": "stream",
     "text": [
      "100%|███████████████████████████████████████████████████████████████████████████████████████████████████████████████████████████████████████████████████████████████████| 67170/67170 [00:08<00:00, 7924.76it/s]\n"
     ]
    },
    {
     "name": "stdout",
     "output_type": "stream",
     "text": [
      "[avg_geodisc] >> 1.9246102001213459\n",
      "[avg_ang_dist] >> 0.0911002287958554\n",
      "------ Computing face graph adjacency matrix ... ------\n",
      "Failed to segment model 13\n",
      "----- Computing face adj ... ------\n"
     ]
    },
    {
     "name": "stderr",
     "output_type": "stream",
     "text": [
      "100%|██████████████████████████████████████████████████████████████████████████████████████████████████████████████████████████████████████████████████████████████████| 17268/17268 [00:00<00:00, 71400.36it/s]\n"
     ]
    },
    {
     "name": "stdout",
     "output_type": "stream",
     "text": [
      "------ Computing avg_geodisc and avg_ang_dist matrix + face_objs graph ... ------\n"
     ]
    },
    {
     "name": "stderr",
     "output_type": "stream",
     "text": [
      "100%|███████████████████████████████████████████████████████████████████████████████████████████████████████████████████████████████████████████████████████████████████| 25902/25902 [00:03<00:00, 8034.38it/s]\n"
     ]
    },
    {
     "name": "stdout",
     "output_type": "stream",
     "text": [
      "[avg_geodisc] >> 0.10741713951916207\n",
      "[avg_ang_dist] >> 0.03408616621908191\n",
      "------ Computing face graph adjacency matrix ... ------\n",
      "Failed to segment model 14\n",
      "----- Computing face adj ... ------\n"
     ]
    },
    {
     "name": "stderr",
     "output_type": "stream",
     "text": [
      "100%|██████████████████████████████████████████████████████████████████████████████████████████████████████████████████████████████████████████████████████████████████| 39348/39348 [00:00<00:00, 92246.71it/s]\n"
     ]
    },
    {
     "name": "stdout",
     "output_type": "stream",
     "text": [
      "------ Computing avg_geodisc and avg_ang_dist matrix + face_objs graph ... ------\n"
     ]
    },
    {
     "name": "stderr",
     "output_type": "stream",
     "text": [
      "  0%|▎                                                                                                                                                                    | 103/58745 [00:00<00:08, 7267.08it/s]\n"
     ]
    },
    {
     "name": "stdout",
     "output_type": "stream",
     "text": [
      "Failed to segment model 15\n",
      "----- Computing face adj ... ------\n"
     ]
    },
    {
     "name": "stderr",
     "output_type": "stream",
     "text": [
      "100%|█████████████████████████████████████████████████████████████████████████████████████████████████████████████████████████████████████████████████████████████████| 17732/17732 [00:00<00:00, 108366.90it/s]\n"
     ]
    },
    {
     "name": "stdout",
     "output_type": "stream",
     "text": [
      "------ Computing avg_geodisc and avg_ang_dist matrix + face_objs graph ... ------\n"
     ]
    },
    {
     "name": "stderr",
     "output_type": "stream",
     "text": [
      "100%|███████████████████████████████████████████████████████████████████████████████████████████████████████████████████████████████████████████████████████████████████| 26598/26598 [00:03<00:00, 7902.33it/s]\n"
     ]
    },
    {
     "name": "stdout",
     "output_type": "stream",
     "text": [
      "[avg_geodisc] >> 0.7957513398422368\n",
      "[avg_ang_dist] >> 0.0439486878629569\n",
      "------ Computing face graph adjacency matrix ... ------\n",
      "Failed to segment model 16\n",
      "----- Computing face adj ... ------\n"
     ]
    },
    {
     "name": "stderr",
     "output_type": "stream",
     "text": [
      "100%|██████████████████████████████████████████████████████████████████████████████████████████████████████████████████████████████████████████████████████████████████| 15638/15638 [00:00<00:00, 89282.30it/s]\n"
     ]
    },
    {
     "name": "stdout",
     "output_type": "stream",
     "text": [
      "------ Computing avg_geodisc and avg_ang_dist matrix + face_objs graph ... ------\n"
     ]
    },
    {
     "name": "stderr",
     "output_type": "stream",
     "text": [
      "100%|███████████████████████████████████████████████████████████████████████████████████████████████████████████████████████████████████████████████████████████████████| 23457/23457 [00:02<00:00, 7996.56it/s]\n"
     ]
    },
    {
     "name": "stdout",
     "output_type": "stream",
     "text": [
      "[avg_geodisc] >> 0.8668450847522132\n",
      "[avg_ang_dist] >> 0.07823057953844222\n",
      "------ Computing face graph adjacency matrix ... ------\n",
      "Failed to segment model 17\n",
      "----- Computing face adj ... ------\n"
     ]
    },
    {
     "name": "stderr",
     "output_type": "stream",
     "text": [
      "100%|██████████████████████████████████████████████████████████████████████████████████████████████████████████████████████████████████████████████████████████████████| 12150/12150 [00:00<00:00, 81254.63it/s]"
     ]
    },
    {
     "name": "stdout",
     "output_type": "stream",
     "text": [
      "------ Computing avg_geodisc and avg_ang_dist matrix + face_objs graph ... ------\n"
     ]
    },
    {
     "name": "stderr",
     "output_type": "stream",
     "text": [
      "\n",
      "100%|███████████████████████████████████████████████████████████████████████████████████████████████████████████████████████████████████████████████████████████████████| 18225/18225 [00:02<00:00, 8023.56it/s]\n"
     ]
    },
    {
     "name": "stdout",
     "output_type": "stream",
     "text": [
      "[avg_geodisc] >> 1.287394079638509\n",
      "[avg_ang_dist] >> 0.039078868975340714\n",
      "------ Computing face graph adjacency matrix ... ------\n",
      "Failed to segment model 18\n",
      "----- Computing face adj ... ------\n"
     ]
    },
    {
     "name": "stderr",
     "output_type": "stream",
     "text": [
      "100%|████████████████████████████████████████████████████████████████████████████████████████████████████████████████████████████████████████████████████████████████████| 7755/7755 [00:00<00:00, 68477.39it/s]\n"
     ]
    },
    {
     "name": "stdout",
     "output_type": "stream",
     "text": [
      "------ Computing avg_geodisc and avg_ang_dist matrix + face_objs graph ... ------\n"
     ]
    },
    {
     "name": "stderr",
     "output_type": "stream",
     "text": [
      "  0%|▏                                                                                                                                                                     | 12/11641 [00:00<00:02, 5007.13it/s]"
     ]
    },
    {
     "name": "stdout",
     "output_type": "stream",
     "text": [
      "Failed to segment model 19\n"
     ]
    },
    {
     "name": "stderr",
     "output_type": "stream",
     "text": [
      "\n"
     ]
    },
    {
     "name": "stdout",
     "output_type": "stream",
     "text": [
      "----- Computing face adj ... ------\n"
     ]
    },
    {
     "name": "stderr",
     "output_type": "stream",
     "text": [
      "100%|██████████████████████████████████████████████████████████████████████████████████████████████████████████████████████████████████████████████████████████████████| 10488/10488 [00:00<00:00, 92988.65it/s]\n"
     ]
    },
    {
     "name": "stdout",
     "output_type": "stream",
     "text": [
      "------ Computing avg_geodisc and avg_ang_dist matrix + face_objs graph ... ------\n"
     ]
    },
    {
     "name": "stderr",
     "output_type": "stream",
     "text": [
      "100%|███████████████████████████████████████████████████████████████████████████████████████████████████████████████████████████████████████████████████████████████████| 15732/15732 [00:01<00:00, 8049.92it/s]\n"
     ]
    },
    {
     "name": "stdout",
     "output_type": "stream",
     "text": [
      "[avg_geodisc] >> 0.7750274856829296\n",
      "[avg_ang_dist] >> 0.055337266986140846\n",
      "------ Computing face graph adjacency matrix ... ------\n",
      "Failed to segment model 20\n",
      "----- Computing face adj ... ------\n"
     ]
    },
    {
     "name": "stderr",
     "output_type": "stream",
     "text": [
      "100%|██████████████████████████████████████████████████████████████████████████████████████████████████████████████████████████████████████████████████████████████████| 17520/17520 [00:00<00:00, 96601.53it/s]\n"
     ]
    },
    {
     "name": "stdout",
     "output_type": "stream",
     "text": [
      "------ Computing avg_geodisc and avg_ang_dist matrix + face_objs graph ... ------\n"
     ]
    },
    {
     "name": "stderr",
     "output_type": "stream",
     "text": [
      "100%|███████████████████████████████████████████████████████████████████████████████████████████████████████████████████████████████████████████████████████████████████| 26280/26280 [00:03<00:00, 7886.33it/s]\n"
     ]
    },
    {
     "name": "stdout",
     "output_type": "stream",
     "text": [
      "[avg_geodisc] >> 1.1776015948775944\n",
      "[avg_ang_dist] >> 0.013420936615477054\n",
      "------ Computing face graph adjacency matrix ... ------\n",
      "Failed to segment model 21\n",
      "----- Computing face adj ... ------\n"
     ]
    },
    {
     "name": "stderr",
     "output_type": "stream",
     "text": [
      "100%|██████████████████████████████████████████████████████████████████████████████████████████████████████████████████████████████████████████████████████████████████| 20528/20528 [00:00<00:00, 97311.99it/s]\n"
     ]
    },
    {
     "name": "stdout",
     "output_type": "stream",
     "text": [
      "------ Computing avg_geodisc and avg_ang_dist matrix + face_objs graph ... ------\n"
     ]
    },
    {
     "name": "stderr",
     "output_type": "stream",
     "text": [
      "100%|███████████████████████████████████████████████████████████████████████████████████████████████████████████████████████████████████████████████████████████████████| 30792/30792 [00:03<00:00, 8037.82it/s]\n"
     ]
    },
    {
     "name": "stdout",
     "output_type": "stream",
     "text": [
      "[avg_geodisc] >> 0.5334982978944982\n",
      "[avg_ang_dist] >> 0.028507260589440864\n",
      "------ Computing face graph adjacency matrix ... ------\n",
      "Failed to segment model 22\n",
      "----- Computing face adj ... ------\n"
     ]
    },
    {
     "name": "stderr",
     "output_type": "stream",
     "text": [
      "100%|██████████████████████████████████████████████████████████████████████████████████████████████████████████████████████████████████████████████████████████████████| 19599/19599 [00:00<00:00, 89732.45it/s]\n"
     ]
    },
    {
     "name": "stdout",
     "output_type": "stream",
     "text": [
      "------ Computing avg_geodisc and avg_ang_dist matrix + face_objs graph ... ------\n"
     ]
    },
    {
     "name": "stderr",
     "output_type": "stream",
     "text": [
      "  2%|██▋                                                                                                                                                                  | 490/29413 [00:00<00:03, 8099.54it/s]\n"
     ]
    },
    {
     "name": "stdout",
     "output_type": "stream",
     "text": [
      "Failed to segment model 23\n",
      "----- Computing face adj ... ------\n"
     ]
    },
    {
     "name": "stderr",
     "output_type": "stream",
     "text": [
      "100%|█████████████████████████████████████████████████████████████████████████████████████████████████████████████████████████████████████████████████████████████████| 20192/20192 [00:00<00:00, 106674.02it/s]"
     ]
    },
    {
     "name": "stdout",
     "output_type": "stream",
     "text": [
      "------ Computing avg_geodisc and avg_ang_dist matrix + face_objs graph ... ------\n"
     ]
    },
    {
     "name": "stderr",
     "output_type": "stream",
     "text": [
      "\n",
      "  3%|████▌                                                                                                                                                                | 841/30294 [00:00<00:03, 7864.66it/s]\n"
     ]
    },
    {
     "name": "stdout",
     "output_type": "stream",
     "text": [
      "Failed to segment model 24\n",
      "----- Computing face adj ... ------\n"
     ]
    },
    {
     "name": "stderr",
     "output_type": "stream",
     "text": [
      "100%|██████████████████████████████████████████████████████████████████████████████████████████████████████████████████████████████████████████████████████████████████| 17604/17604 [00:00<00:00, 81929.98it/s]\n"
     ]
    },
    {
     "name": "stdout",
     "output_type": "stream",
     "text": [
      "------ Computing avg_geodisc and avg_ang_dist matrix + face_objs graph ... ------\n"
     ]
    },
    {
     "name": "stderr",
     "output_type": "stream",
     "text": [
      "100%|███████████████████████████████████████████████████████████████████████████████████████████████████████████████████████████████████████████████████████████████████| 26406/26406 [00:03<00:00, 8010.40it/s]\n"
     ]
    },
    {
     "name": "stdout",
     "output_type": "stream",
     "text": [
      "[avg_geodisc] >> 2.378386123075347\n",
      "[avg_ang_dist] >> 0.20725329574524542\n",
      "------ Computing face graph adjacency matrix ... ------\n",
      "Failed to segment model 25\n",
      "----- Computing face adj ... ------\n"
     ]
    },
    {
     "name": "stderr",
     "output_type": "stream",
     "text": [
      "100%|██████████████████████████████████████████████████████████████████████████████████████████████████████████████████████████████████████████████████████████████████| 17800/17800 [00:00<00:00, 83637.80it/s]\n"
     ]
    },
    {
     "name": "stdout",
     "output_type": "stream",
     "text": [
      "------ Computing avg_geodisc and avg_ang_dist matrix + face_objs graph ... ------\n"
     ]
    },
    {
     "name": "stderr",
     "output_type": "stream",
     "text": [
      "100%|███████████████████████████████████████████████████████████████████████████████████████████████████████████████████████████████████████████████████████████████████| 26700/26700 [00:03<00:00, 8020.07it/s]\n"
     ]
    },
    {
     "name": "stdout",
     "output_type": "stream",
     "text": [
      "[avg_geodisc] >> 1.3114888671025868\n",
      "[avg_ang_dist] >> 0.02971347538596436\n",
      "------ Computing face graph adjacency matrix ... ------\n",
      "Failed to segment model 26\n",
      "----- Computing face adj ... ------\n"
     ]
    },
    {
     "name": "stderr",
     "output_type": "stream",
     "text": [
      "100%|█████████████████████████████████████████████████████████████████████████████████████████████████████████████████████████████████████████████████████████████████| 35036/35036 [00:00<00:00, 107672.65it/s]\n"
     ]
    },
    {
     "name": "stdout",
     "output_type": "stream",
     "text": [
      "------ Computing avg_geodisc and avg_ang_dist matrix + face_objs graph ... ------\n"
     ]
    },
    {
     "name": "stderr",
     "output_type": "stream",
     "text": [
      "  1%|█▏                                                                                                                                                                   | 395/52551 [00:00<00:06, 7787.75it/s]\n"
     ]
    },
    {
     "name": "stdout",
     "output_type": "stream",
     "text": [
      "Failed to segment model 27\n",
      "----- Computing face adj ... ------\n"
     ]
    },
    {
     "name": "stderr",
     "output_type": "stream",
     "text": [
      "100%|█████████████████████████████████████████████████████████████████████████████████████████████████████████████████████████████████████████████████████████████████| 14692/14692 [00:00<00:00, 101665.67it/s]\n"
     ]
    },
    {
     "name": "stdout",
     "output_type": "stream",
     "text": [
      "------ Computing avg_geodisc and avg_ang_dist matrix + face_objs graph ... ------\n"
     ]
    },
    {
     "name": "stderr",
     "output_type": "stream",
     "text": [
      "  2%|███▎                                                                                                                                                                 | 434/22030 [00:00<00:02, 7899.91it/s]\n"
     ]
    },
    {
     "name": "stdout",
     "output_type": "stream",
     "text": [
      "Failed to segment model 28\n",
      "----- Computing face adj ... ------\n"
     ]
    },
    {
     "name": "stderr",
     "output_type": "stream",
     "text": [
      "100%|██████████████████████████████████████████████████████████████████████████████████████████████████████████████████████████████████████████████████████████████████| 53880/53880 [00:00<00:00, 96049.17it/s]\n"
     ]
    },
    {
     "name": "stdout",
     "output_type": "stream",
     "text": [
      "------ Computing avg_geodisc and avg_ang_dist matrix + face_objs graph ... ------\n"
     ]
    },
    {
     "name": "stderr",
     "output_type": "stream",
     "text": [
      " 19%|██████████████████████████████▍                                                                                                                                    | 15073/80812 [00:01<00:08, 8097.59it/s]\n"
     ]
    },
    {
     "name": "stdout",
     "output_type": "stream",
     "text": [
      "Failed to segment model 29\n",
      "----- Computing face adj ... ------\n"
     ]
    },
    {
     "name": "stderr",
     "output_type": "stream",
     "text": [
      "100%|█████████████████████████████████████████████████████████████████████████████████████████████████████████████████████████████████████████████████████████████████| 27414/27414 [00:00<00:00, 103506.10it/s]\n"
     ]
    },
    {
     "name": "stdout",
     "output_type": "stream",
     "text": [
      "------ Computing avg_geodisc and avg_ang_dist matrix + face_objs graph ... ------\n"
     ]
    },
    {
     "name": "stderr",
     "output_type": "stream",
     "text": [
      "  0%|▋                                                                                                                                                                    | 180/41120 [00:00<00:05, 7707.44it/s]\n"
     ]
    },
    {
     "name": "stdout",
     "output_type": "stream",
     "text": [
      "Failed to segment model 30\n",
      "----- Computing face adj ... ------\n"
     ]
    },
    {
     "name": "stderr",
     "output_type": "stream",
     "text": [
      "100%|█████████████████████████████████████████████████████████████████████████████████████████████████████████████████████████████████████████████████████████████████| 18826/18826 [00:00<00:00, 112614.42it/s]\n"
     ]
    },
    {
     "name": "stdout",
     "output_type": "stream",
     "text": [
      "------ Computing avg_geodisc and avg_ang_dist matrix + face_objs graph ... ------\n"
     ]
    },
    {
     "name": "stderr",
     "output_type": "stream",
     "text": [
      "100%|███████████████████████████████████████████████████████████████████████████████████████████████████████████████████████████████████████████████████████████████████| 28239/28239 [00:03<00:00, 8164.21it/s]\n"
     ]
    },
    {
     "name": "stdout",
     "output_type": "stream",
     "text": [
      "[avg_geodisc] >> 0.37798751974414346\n",
      "[avg_ang_dist] >> 0.01420509720049514\n",
      "------ Computing face graph adjacency matrix ... ------\n",
      "Failed to segment model 31\n",
      "----- Computing face adj ... ------\n"
     ]
    },
    {
     "name": "stderr",
     "output_type": "stream",
     "text": [
      "100%|██████████████████████████████████████████████████████████████████████████████████████████████████████████████████████████████████████████████████████████████████| 20472/20472 [00:00<00:00, 96018.50it/s]\n"
     ]
    },
    {
     "name": "stdout",
     "output_type": "stream",
     "text": [
      "------ Computing avg_geodisc and avg_ang_dist matrix + face_objs graph ... ------\n"
     ]
    },
    {
     "name": "stderr",
     "output_type": "stream",
     "text": [
      "100%|███████████████████████████████████████████████████████████████████████████████████████████████████████████████████████████████████████████████████████████████████| 30708/30708 [00:03<00:00, 7923.73it/s]\n"
     ]
    },
    {
     "name": "stdout",
     "output_type": "stream",
     "text": [
      "[avg_geodisc] >> 0.31070834602912023\n",
      "[avg_ang_dist] >> 0.04031531552906142\n",
      "------ Computing face graph adjacency matrix ... ------\n",
      "Failed to segment model 32\n",
      "----- Computing face adj ... ------\n"
     ]
    },
    {
     "name": "stderr",
     "output_type": "stream",
     "text": [
      "100%|█████████████████████████████████████████████████████████████████████████████████████████████████████████████████████████████████████████████████████████████████| 23140/23140 [00:00<00:00, 136062.82it/s]\n"
     ]
    },
    {
     "name": "stdout",
     "output_type": "stream",
     "text": [
      "------ Computing avg_geodisc and avg_ang_dist matrix + face_objs graph ... ------\n"
     ]
    },
    {
     "name": "stderr",
     "output_type": "stream",
     "text": [
      "100%|███████████████████████████████████████████████████████████████████████████████████████████████████████████████████████████████████████████████████████████████████| 34710/34710 [00:04<00:00, 7974.15it/s]\n"
     ]
    },
    {
     "name": "stdout",
     "output_type": "stream",
     "text": [
      "[avg_geodisc] >> 1.7208711126406453\n",
      "[avg_ang_dist] >> 0.03230039198586227\n",
      "------ Computing face graph adjacency matrix ... ------\n"
     ]
    },
    {
     "name": "stderr",
     "output_type": "stream",
     "text": [
      "LOG: 1 Error encountered while loading file:\n",
      "\"model_34.obj\"\n",
      "\n",
      "Error details: Material library file wrong or not found, a default white material is used\n"
     ]
    },
    {
     "name": "stdout",
     "output_type": "stream",
     "text": [
      "Failed to segment model 33\n",
      "----- Computing face adj ... ------\n"
     ]
    },
    {
     "name": "stderr",
     "output_type": "stream",
     "text": [
      "100%|██████████████████████████████████████████████████████████████████████████████████████████████████████████████████████████████████████████████████████████████████| 21286/21286 [00:00<00:00, 89889.59it/s]\n"
     ]
    },
    {
     "name": "stdout",
     "output_type": "stream",
     "text": [
      "------ Computing avg_geodisc and avg_ang_dist matrix + face_objs graph ... ------\n"
     ]
    },
    {
     "name": "stderr",
     "output_type": "stream",
     "text": [
      "100%|███████████████████████████████████████████████████████████████████████████████████████████████████████████████████████████████████████████████████████████████████| 31929/31929 [00:03<00:00, 8055.76it/s]\n"
     ]
    },
    {
     "name": "stdout",
     "output_type": "stream",
     "text": [
      "[avg_geodisc] >> 0.23890724188688364\n",
      "[avg_ang_dist] >> 0.030250636633610654\n",
      "------ Computing face graph adjacency matrix ... ------\n",
      "Failed to segment model 34\n",
      "----- Computing face adj ... ------\n"
     ]
    },
    {
     "name": "stderr",
     "output_type": "stream",
     "text": [
      "100%|█████████████████████████████████████████████████████████████████████████████████████████████████████████████████████████████████████████████████████████████████| 13544/13544 [00:00<00:00, 135589.48it/s]"
     ]
    },
    {
     "name": "stdout",
     "output_type": "stream",
     "text": [
      "------ Computing avg_geodisc and avg_ang_dist matrix + face_objs graph ... ------\n"
     ]
    },
    {
     "name": "stderr",
     "output_type": "stream",
     "text": [
      "\n",
      "100%|███████████████████████████████████████████████████████████████████████████████████████████████████████████████████████████████████████████████████████████████████| 20316/20316 [00:02<00:00, 7996.67it/s]\n"
     ]
    },
    {
     "name": "stdout",
     "output_type": "stream",
     "text": [
      "[avg_geodisc] >> 0.8251896265945842\n",
      "[avg_ang_dist] >> 0.032918502817731315\n",
      "------ Computing face graph adjacency matrix ... ------\n",
      "Failed to segment model 35\n",
      "----- Computing face adj ... ------\n"
     ]
    },
    {
     "name": "stderr",
     "output_type": "stream",
     "text": [
      "100%|██████████████████████████████████████████████████████████████████████████████████████████████████████████████████████████████████████████████████████████████████| 16952/16952 [00:00<00:00, 94917.24it/s]\n"
     ]
    },
    {
     "name": "stdout",
     "output_type": "stream",
     "text": [
      "------ Computing avg_geodisc and avg_ang_dist matrix + face_objs graph ... ------\n"
     ]
    },
    {
     "name": "stderr",
     "output_type": "stream",
     "text": [
      "100%|███████████████████████████████████████████████████████████████████████████████████████████████████████████████████████████████████████████████████████████████████| 25428/25428 [00:03<00:00, 8065.83it/s]\n"
     ]
    },
    {
     "name": "stdout",
     "output_type": "stream",
     "text": [
      "[avg_geodisc] >> 1.4826049403551598\n",
      "[avg_ang_dist] >> 0.06948605138834939\n",
      "------ Computing face graph adjacency matrix ... ------\n",
      "Failed to segment model 36\n",
      "----- Computing face adj ... ------\n"
     ]
    },
    {
     "name": "stderr",
     "output_type": "stream",
     "text": [
      "100%|█████████████████████████████████████████████████████████████████████████████████████████████████████████████████████████████████████████████████████████████████| 45115/45115 [00:00<00:00, 103839.69it/s]\n"
     ]
    },
    {
     "name": "stdout",
     "output_type": "stream",
     "text": [
      "------ Computing avg_geodisc and avg_ang_dist matrix + face_objs graph ... ------\n"
     ]
    },
    {
     "name": "stderr",
     "output_type": "stream",
     "text": [
      "  2%|███▊                                                                                                                                                                | 1557/67674 [00:00<00:08, 7930.03it/s]\n"
     ]
    },
    {
     "name": "stdout",
     "output_type": "stream",
     "text": [
      "Failed to segment model 37\n",
      "----- Computing face adj ... ------\n"
     ]
    },
    {
     "name": "stderr",
     "output_type": "stream",
     "text": [
      "100%|█████████████████████████████████████████████████████████████████████████████████████████████████████████████████████████████████████████████████████████████████| 19944/19944 [00:00<00:00, 105178.90it/s]\n"
     ]
    },
    {
     "name": "stdout",
     "output_type": "stream",
     "text": [
      "------ Computing avg_geodisc and avg_ang_dist matrix + face_objs graph ... ------\n"
     ]
    },
    {
     "name": "stderr",
     "output_type": "stream",
     "text": [
      "100%|███████████████████████████████████████████████████████████████████████████████████████████████████████████████████████████████████████████████████████████████████| 29916/29916 [00:03<00:00, 8090.94it/s]\n"
     ]
    },
    {
     "name": "stdout",
     "output_type": "stream",
     "text": [
      "[avg_geodisc] >> 0.47848638729504595\n",
      "[avg_ang_dist] >> 0.03556882331716866\n",
      "------ Computing face graph adjacency matrix ... ------\n",
      "Failed to segment model 38\n",
      "----- Computing face adj ... ------\n"
     ]
    },
    {
     "name": "stderr",
     "output_type": "stream",
     "text": [
      "100%|██████████████████████████████████████████████████████████████████████████████████████████████████████████████████████████████████████████████████████████████████| 20995/20995 [00:00<00:00, 95079.92it/s]\n"
     ]
    },
    {
     "name": "stdout",
     "output_type": "stream",
     "text": [
      "------ Computing avg_geodisc and avg_ang_dist matrix + face_objs graph ... ------\n"
     ]
    },
    {
     "name": "stderr",
     "output_type": "stream",
     "text": [
      " 53%|█████████████████████████████████████████████████████████████████████████████████████▋                                                                             | 16424/31249 [00:02<00:01, 8210.89it/s]\n"
     ]
    },
    {
     "name": "stdout",
     "output_type": "stream",
     "text": [
      "Failed to segment model 39\n",
      "----- Computing face adj ... ------\n"
     ]
    },
    {
     "name": "stderr",
     "output_type": "stream",
     "text": [
      "100%|█████████████████████████████████████████████████████████████████████████████████████████████████████████████████████████████████████████████████████████████████| 24448/24448 [00:00<00:00, 104067.45it/s]\n"
     ]
    },
    {
     "name": "stdout",
     "output_type": "stream",
     "text": [
      "------ Computing avg_geodisc and avg_ang_dist matrix + face_objs graph ... ------\n"
     ]
    },
    {
     "name": "stderr",
     "output_type": "stream",
     "text": [
      "100%|███████████████████████████████████████████████████████████████████████████████████████████████████████████████████████████████████████████████████████████████████| 36672/36672 [00:04<00:00, 8071.23it/s]\n"
     ]
    },
    {
     "name": "stdout",
     "output_type": "stream",
     "text": [
      "[avg_geodisc] >> 0.5742098683106206\n",
      "[avg_ang_dist] >> 0.0037066106355570765\n",
      "------ Computing face graph adjacency matrix ... ------\n",
      "Failed to segment model 40\n",
      "----- Computing face adj ... ------\n"
     ]
    },
    {
     "name": "stderr",
     "output_type": "stream",
     "text": [
      "100%|█████████████████████████████████████████████████████████████████████████████████████████████████████████████████████████████████████████████████████████████████| 15546/15546 [00:00<00:00, 133069.36it/s]"
     ]
    },
    {
     "name": "stdout",
     "output_type": "stream",
     "text": [
      "------ Computing avg_geodisc and avg_ang_dist matrix + face_objs graph ... ------\n"
     ]
    },
    {
     "name": "stderr",
     "output_type": "stream",
     "text": [
      "\n",
      "100%|███████████████████████████████████████████████████████████████████████████████████████████████████████████████████████████████████████████████████████████████████| 23319/23319 [00:02<00:00, 8351.49it/s]\n"
     ]
    },
    {
     "name": "stdout",
     "output_type": "stream",
     "text": [
      "[avg_geodisc] >> 1.398976019875781\n",
      "[avg_ang_dist] >> 0.02245571907247786\n",
      "------ Computing face graph adjacency matrix ... ------\n",
      "Failed to segment model 41\n",
      "----- Computing face adj ... ------\n"
     ]
    },
    {
     "name": "stderr",
     "output_type": "stream",
     "text": [
      "100%|██████████████████████████████████████████████████████████████████████████████████████████████████████████████████████████████████████████████████████████████████| 27746/27746 [00:00<00:00, 89834.40it/s]\n"
     ]
    },
    {
     "name": "stdout",
     "output_type": "stream",
     "text": [
      "------ Computing avg_geodisc and avg_ang_dist matrix + face_objs graph ... ------\n"
     ]
    },
    {
     "name": "stderr",
     "output_type": "stream",
     "text": [
      " 14%|██████████████████████▌                                                                                                                                             | 5714/41616 [00:00<00:04, 7860.73it/s]\n"
     ]
    },
    {
     "name": "stdout",
     "output_type": "stream",
     "text": [
      "Failed to segment model 42\n",
      "----- Computing face adj ... ------\n"
     ]
    },
    {
     "name": "stderr",
     "output_type": "stream",
     "text": [
      "100%|█████████████████████████████████████████████████████████████████████████████████████████████████████████████████████████████████████████████████████████████████| 22414/22414 [00:00<00:00, 133344.20it/s]\n"
     ]
    },
    {
     "name": "stdout",
     "output_type": "stream",
     "text": [
      "------ Computing avg_geodisc and avg_ang_dist matrix + face_objs graph ... ------\n"
     ]
    },
    {
     "name": "stderr",
     "output_type": "stream",
     "text": [
      "100%|███████████████████████████████████████████████████████████████████████████████████████████████████████████████████████████████████████████████████████████████████| 33621/33621 [00:04<00:00, 8113.03it/s]\n"
     ]
    },
    {
     "name": "stdout",
     "output_type": "stream",
     "text": [
      "[avg_geodisc] >> 0.5554745539468482\n",
      "[avg_ang_dist] >> 0.03614277481575723\n",
      "------ Computing face graph adjacency matrix ... ------\n",
      "Failed to segment model 43\n",
      "----- Computing face adj ... ------\n"
     ]
    },
    {
     "name": "stderr",
     "output_type": "stream",
     "text": [
      "100%|█████████████████████████████████████████████████████████████████████████████████████████████████████████████████████████████████████████████████████████████████| 12462/12462 [00:00<00:00, 130288.86it/s]"
     ]
    },
    {
     "name": "stdout",
     "output_type": "stream",
     "text": [
      "------ Computing avg_geodisc and avg_ang_dist matrix + face_objs graph ... ------\n"
     ]
    },
    {
     "name": "stderr",
     "output_type": "stream",
     "text": [
      "\n",
      "100%|███████████████████████████████████████████████████████████████████████████████████████████████████████████████████████████████████████████████████████████████████| 18693/18693 [00:02<00:00, 8000.88it/s]\n"
     ]
    },
    {
     "name": "stdout",
     "output_type": "stream",
     "text": [
      "[avg_geodisc] >> 1.1107672197692635\n",
      "[avg_ang_dist] >> 0.06824869975435366\n",
      "------ Computing face graph adjacency matrix ... ------\n",
      "Failed to segment model 44\n",
      "----- Computing face adj ... ------\n"
     ]
    },
    {
     "name": "stderr",
     "output_type": "stream",
     "text": [
      "100%|█████████████████████████████████████████████████████████████████████████████████████████████████████████████████████████████████████████████████████████████████| 27056/27056 [00:00<00:00, 100332.51it/s]\n"
     ]
    },
    {
     "name": "stdout",
     "output_type": "stream",
     "text": [
      "------ Computing avg_geodisc and avg_ang_dist matrix + face_objs graph ... ------\n"
     ]
    },
    {
     "name": "stderr",
     "output_type": "stream",
     "text": [
      "100%|███████████████████████████████████████████████████████████████████████████████████████████████████████████████████████████████████████████████████████████████████| 40584/40584 [00:04<00:00, 8125.85it/s]\n"
     ]
    },
    {
     "name": "stdout",
     "output_type": "stream",
     "text": [
      "[avg_geodisc] >> 0.48436353009927635\n",
      "[avg_ang_dist] >> 0.03748988712860008\n",
      "------ Computing face graph adjacency matrix ... ------\n",
      "Failed to segment model 45\n",
      "----- Computing face adj ... ------\n"
     ]
    },
    {
     "name": "stderr",
     "output_type": "stream",
     "text": [
      "100%|█████████████████████████████████████████████████████████████████████████████████████████████████████████████████████████████████████████████████████████████████| 18293/18293 [00:00<00:00, 138546.83it/s]\n"
     ]
    },
    {
     "name": "stdout",
     "output_type": "stream",
     "text": [
      "------ Computing avg_geodisc and avg_ang_dist matrix + face_objs graph ... ------\n"
     ]
    },
    {
     "name": "stderr",
     "output_type": "stream",
     "text": [
      "  0%|▍                                                                                                                                                                     | 66/27439 [00:00<00:03, 6923.72it/s]\n"
     ]
    },
    {
     "name": "stdout",
     "output_type": "stream",
     "text": [
      "Failed to segment model 46\n",
      "----- Computing face adj ... ------\n"
     ]
    },
    {
     "name": "stderr",
     "output_type": "stream",
     "text": [
      "100%|█████████████████████████████████████████████████████████████████████████████████████████████████████████████████████████████████████████████████████████████████| 14594/14594 [00:00<00:00, 134946.07it/s]\n"
     ]
    },
    {
     "name": "stdout",
     "output_type": "stream",
     "text": [
      "------ Computing avg_geodisc and avg_ang_dist matrix + face_objs graph ... ------\n"
     ]
    },
    {
     "name": "stderr",
     "output_type": "stream",
     "text": [
      "100%|███████████████████████████████████████████████████████████████████████████████████████████████████████████████████████████████████████████████████████████████████| 21891/21891 [00:02<00:00, 8155.18it/s]\n"
     ]
    },
    {
     "name": "stdout",
     "output_type": "stream",
     "text": [
      "[avg_geodisc] >> 0.46613069214191377\n",
      "[avg_ang_dist] >> 0.03791872060159025\n",
      "------ Computing face graph adjacency matrix ... ------\n",
      "Failed to segment model 47\n",
      "----- Computing face adj ... ------\n"
     ]
    },
    {
     "name": "stderr",
     "output_type": "stream",
     "text": [
      "100%|██████████████████████████████████████████████████████████████████████████████████████████████████████████████████████████████████████████████████████████████████| 25972/25972 [00:00<00:00, 99053.75it/s]\n"
     ]
    },
    {
     "name": "stdout",
     "output_type": "stream",
     "text": [
      "------ Computing avg_geodisc and avg_ang_dist matrix + face_objs graph ... ------\n"
     ]
    },
    {
     "name": "stderr",
     "output_type": "stream",
     "text": [
      "100%|███████████████████████████████████████████████████████████████████████████████████████████████████████████████████████████████████████████████████████████████████| 38958/38958 [00:04<00:00, 8234.19it/s]\n"
     ]
    },
    {
     "name": "stdout",
     "output_type": "stream",
     "text": [
      "[avg_geodisc] >> 0.8243355260627737\n",
      "[avg_ang_dist] >> 0.28466669296705555\n",
      "------ Computing face graph adjacency matrix ... ------\n",
      "Failed to segment model 48\n",
      "----- Computing face adj ... ------\n"
     ]
    },
    {
     "name": "stderr",
     "output_type": "stream",
     "text": [
      "100%|██████████████████████████████████████████████████████████████████████████████████████████████████████████████████████████████████████████████████████████████████| 28838/28838 [00:00<00:00, 98313.61it/s]\n"
     ]
    },
    {
     "name": "stdout",
     "output_type": "stream",
     "text": [
      "------ Computing avg_geodisc and avg_ang_dist matrix + face_objs graph ... ------\n"
     ]
    },
    {
     "name": "stderr",
     "output_type": "stream",
     "text": [
      "100%|███████████████████████████████████████████████████████████████████████████████████████████████████████████████████████████████████████████████████████████████████| 43257/43257 [00:05<00:00, 8151.28it/s]\n"
     ]
    },
    {
     "name": "stdout",
     "output_type": "stream",
     "text": [
      "[avg_geodisc] >> 0.6464708704899651\n",
      "[avg_ang_dist] >> 0.07266240413489422\n",
      "------ Computing face graph adjacency matrix ... ------\n",
      "Failed to segment model 49\n",
      "----- Computing face adj ... ------\n"
     ]
    },
    {
     "name": "stderr",
     "output_type": "stream",
     "text": [
      "100%|█████████████████████████████████████████████████████████████████████████████████████████████████████████████████████████████████████████████████████████████████| 16500/16500 [00:00<00:00, 131986.91it/s]"
     ]
    },
    {
     "name": "stdout",
     "output_type": "stream",
     "text": [
      "------ Computing avg_geodisc and avg_ang_dist matrix + face_objs graph ... ------\n"
     ]
    },
    {
     "name": "stderr",
     "output_type": "stream",
     "text": [
      "\n",
      "100%|███████████████████████████████████████████████████████████████████████████████████████████████████████████████████████████████████████████████████████████████████| 24750/24750 [00:03<00:00, 8153.51it/s]\n"
     ]
    },
    {
     "name": "stdout",
     "output_type": "stream",
     "text": [
      "[avg_geodisc] >> 0.36714035021522395\n",
      "[avg_ang_dist] >> 0.04538233595207365\n",
      "------ Computing face graph adjacency matrix ... ------\n",
      "Failed to segment model 50\n",
      "----- Computing face adj ... ------\n"
     ]
    },
    {
     "name": "stderr",
     "output_type": "stream",
     "text": [
      "100%|██████████████████████████████████████████████████████████████████████████████████████████████████████████████████████████████████████████████████████████████████| 14596/14596 [00:00<00:00, 89079.50it/s]\n"
     ]
    },
    {
     "name": "stdout",
     "output_type": "stream",
     "text": [
      "------ Computing avg_geodisc and avg_ang_dist matrix + face_objs graph ... ------\n"
     ]
    },
    {
     "name": "stderr",
     "output_type": "stream",
     "text": [
      "100%|███████████████████████████████████████████████████████████████████████████████████████████████████████████████████████████████████████████████████████████████████| 21894/21894 [00:02<00:00, 8016.38it/s]\n"
     ]
    },
    {
     "name": "stdout",
     "output_type": "stream",
     "text": [
      "[avg_geodisc] >> 0.3420407030408637\n",
      "[avg_ang_dist] >> 0.04714050703684155\n",
      "------ Computing face graph adjacency matrix ... ------\n",
      "Failed to segment model 51\n",
      "----- Computing face adj ... ------\n"
     ]
    },
    {
     "name": "stderr",
     "output_type": "stream",
     "text": [
      "100%|███████████████████████████████████████████████████████████████████████████████████████████████████████████████████████████████████████████████████████████████████| 9758/9758 [00:00<00:00, 132399.57it/s]"
     ]
    },
    {
     "name": "stdout",
     "output_type": "stream",
     "text": [
      "------ Computing avg_geodisc and avg_ang_dist matrix + face_objs graph ... ------\n"
     ]
    },
    {
     "name": "stderr",
     "output_type": "stream",
     "text": [
      "\n",
      "  8%|█████████████▏                                                                                                                                                      | 1179/14605 [00:00<00:01, 8130.97it/s]\n"
     ]
    },
    {
     "name": "stdout",
     "output_type": "stream",
     "text": [
      "Failed to segment model 52\n",
      "----- Computing face adj ... ------\n"
     ]
    },
    {
     "name": "stderr",
     "output_type": "stream",
     "text": [
      "100%|█████████████████████████████████████████████████████████████████████████████████████████████████████████████████████████████████████████████████████████████████| 20466/20466 [00:00<00:00, 108031.34it/s]"
     ]
    },
    {
     "name": "stdout",
     "output_type": "stream",
     "text": [
      "------ Computing avg_geodisc and avg_ang_dist matrix + face_objs graph ... ------\n"
     ]
    },
    {
     "name": "stderr",
     "output_type": "stream",
     "text": [
      "\n",
      "100%|███████████████████████████████████████████████████████████████████████████████████████████████████████████████████████████████████████████████████████████████████| 30699/30699 [00:03<00:00, 8019.06it/s]\n"
     ]
    },
    {
     "name": "stdout",
     "output_type": "stream",
     "text": [
      "[avg_geodisc] >> 2.035813569536051\n",
      "[avg_ang_dist] >> nan\n",
      "------ Computing face graph adjacency matrix ... ------\n",
      "Failed to segment model 53\n",
      "----- Computing face adj ... ------\n"
     ]
    },
    {
     "name": "stderr",
     "output_type": "stream",
     "text": [
      "100%|██████████████████████████████████████████████████████████████████████████████████████████████████████████████████████████████████████████████████████████████████| 16786/16786 [00:00<00:00, 89735.51it/s]\n"
     ]
    },
    {
     "name": "stdout",
     "output_type": "stream",
     "text": [
      "------ Computing avg_geodisc and avg_ang_dist matrix + face_objs graph ... ------\n"
     ]
    },
    {
     "name": "stderr",
     "output_type": "stream",
     "text": [
      "  7%|███████████▊                                                                                                                                                        | 1818/25187 [00:00<00:02, 7949.04it/s]\n"
     ]
    },
    {
     "name": "stdout",
     "output_type": "stream",
     "text": [
      "Failed to segment model 54\n",
      "----- Computing face adj ... ------\n"
     ]
    },
    {
     "name": "stderr",
     "output_type": "stream",
     "text": [
      "100%|██████████████████████████████████████████████████████████████████████████████████████████████████████████████████████████████████████████████████████████████████| 13442/13442 [00:00<00:00, 98769.73it/s]\n"
     ]
    },
    {
     "name": "stdout",
     "output_type": "stream",
     "text": [
      "------ Computing avg_geodisc and avg_ang_dist matrix + face_objs graph ... ------\n"
     ]
    },
    {
     "name": "stderr",
     "output_type": "stream",
     "text": [
      "100%|███████████████████████████████████████████████████████████████████████████████████████████████████████████████████████████████████████████████████████████████████| 20163/20163 [00:02<00:00, 8340.64it/s]\n"
     ]
    },
    {
     "name": "stdout",
     "output_type": "stream",
     "text": [
      "[avg_geodisc] >> 0.36552760062336254\n",
      "[avg_ang_dist] >> 0.11250025208629649\n",
      "------ Computing face graph adjacency matrix ... ------\n",
      "Failed to segment model 55\n",
      "----- Computing face adj ... ------\n"
     ]
    },
    {
     "name": "stderr",
     "output_type": "stream",
     "text": [
      "100%|██████████████████████████████████████████████████████████████████████████████████████████████████████████████████████████████████████████████████████████████████| 20984/20984 [00:00<00:00, 98797.52it/s]\n"
     ]
    },
    {
     "name": "stdout",
     "output_type": "stream",
     "text": [
      "------ Computing avg_geodisc and avg_ang_dist matrix + face_objs graph ... ------\n"
     ]
    },
    {
     "name": "stderr",
     "output_type": "stream",
     "text": [
      "100%|███████████████████████████████████████████████████████████████████████████████████████████████████████████████████████████████████████████████████████████████████| 31476/31476 [00:03<00:00, 8061.72it/s]\n"
     ]
    },
    {
     "name": "stdout",
     "output_type": "stream",
     "text": [
      "[avg_geodisc] >> 0.6911370794860677\n",
      "[avg_ang_dist] >> 0.18008901829638985\n",
      "------ Computing face graph adjacency matrix ... ------\n",
      "Failed to segment model 56\n",
      "----- Computing face adj ... ------\n"
     ]
    },
    {
     "name": "stderr",
     "output_type": "stream",
     "text": [
      "100%|██████████████████████████████████████████████████████████████████████████████████████████████████████████████████████████████████████████████████████████████████| 24005/24005 [00:00<00:00, 96484.12it/s]\n"
     ]
    },
    {
     "name": "stdout",
     "output_type": "stream",
     "text": [
      "------ Computing avg_geodisc and avg_ang_dist matrix + face_objs graph ... ------\n"
     ]
    },
    {
     "name": "stderr",
     "output_type": "stream",
     "text": [
      " 36%|█████████████████████████████████████████████████████████▉                                                                                                         | 12804/36033 [00:01<00:02, 8278.71it/s]\n"
     ]
    },
    {
     "name": "stdout",
     "output_type": "stream",
     "text": [
      "Failed to segment model 57\n",
      "----- Computing face adj ... ------\n"
     ]
    },
    {
     "name": "stderr",
     "output_type": "stream",
     "text": [
      "100%|█████████████████████████████████████████████████████████████████████████████████████████████████████████████████████████████████████████████████████████████████| 13946/13946 [00:00<00:00, 135044.61it/s]\n"
     ]
    },
    {
     "name": "stdout",
     "output_type": "stream",
     "text": [
      "------ Computing avg_geodisc and avg_ang_dist matrix + face_objs graph ... ------\n"
     ]
    },
    {
     "name": "stderr",
     "output_type": "stream",
     "text": [
      "100%|███████████████████████████████████████████████████████████████████████████████████████████████████████████████████████████████████████████████████████████████████| 20919/20919 [00:02<00:00, 8122.18it/s]\n"
     ]
    },
    {
     "name": "stdout",
     "output_type": "stream",
     "text": [
      "[avg_geodisc] >> 1.025090952187323\n",
      "[avg_ang_dist] >> 0.14197203769774477\n",
      "------ Computing face graph adjacency matrix ... ------\n",
      "Failed to segment model 58\n",
      "----- Computing face adj ... ------\n"
     ]
    },
    {
     "name": "stderr",
     "output_type": "stream",
     "text": [
      "100%|█████████████████████████████████████████████████████████████████████████████████████████████████████████████████████████████████████████████████████████████████| 24256/24256 [00:00<00:00, 103209.53it/s]\n"
     ]
    },
    {
     "name": "stdout",
     "output_type": "stream",
     "text": [
      "------ Computing avg_geodisc and avg_ang_dist matrix + face_objs graph ... ------\n"
     ]
    },
    {
     "name": "stderr",
     "output_type": "stream",
     "text": [
      "100%|███████████████████████████████████████████████████████████████████████████████████████████████████████████████████████████████████████████████████████████████████| 36384/36384 [00:04<00:00, 8185.38it/s]\n"
     ]
    },
    {
     "name": "stdout",
     "output_type": "stream",
     "text": [
      "[avg_geodisc] >> 1.4108390916444102\n",
      "[avg_ang_dist] >> 0.02312098763568874\n",
      "------ Computing face graph adjacency matrix ... ------\n",
      "Failed to segment model 59\n",
      "----- Computing face adj ... ------\n"
     ]
    },
    {
     "name": "stderr",
     "output_type": "stream",
     "text": [
      "100%|█████████████████████████████████████████████████████████████████████████████████████████████████████████████████████████████████████████████████████████████████| 10650/10650 [00:00<00:00, 138853.59it/s]"
     ]
    },
    {
     "name": "stdout",
     "output_type": "stream",
     "text": [
      "------ Computing avg_geodisc and avg_ang_dist matrix + face_objs graph ... ------\n"
     ]
    },
    {
     "name": "stderr",
     "output_type": "stream",
     "text": [
      "\n",
      "100%|███████████████████████████████████████████████████████████████████████████████████████████████████████████████████████████████████████████████████████████████████| 15975/15975 [00:01<00:00, 8258.89it/s]\n"
     ]
    },
    {
     "name": "stdout",
     "output_type": "stream",
     "text": [
      "[avg_geodisc] >> 0.25942349603912107\n",
      "[avg_ang_dist] >> 0.0804591783331852\n",
      "------ Computing face graph adjacency matrix ... ------\n",
      "Failed to segment model 60\n",
      "----- Computing face adj ... ------\n"
     ]
    },
    {
     "name": "stderr",
     "output_type": "stream",
     "text": [
      "100%|██████████████████████████████████████████████████████████████████████████████████████████████████████████████████████████████████████████████████████████████████| 21050/21050 [00:00<00:00, 99341.32it/s]\n"
     ]
    },
    {
     "name": "stdout",
     "output_type": "stream",
     "text": [
      "------ Computing avg_geodisc and avg_ang_dist matrix + face_objs graph ... ------\n"
     ]
    },
    {
     "name": "stderr",
     "output_type": "stream",
     "text": [
      "100%|███████████████████████████████████████████████████████████████████████████████████████████████████████████████████████████████████████████████████████████████████| 31575/31575 [00:04<00:00, 7847.05it/s]\n"
     ]
    },
    {
     "name": "stdout",
     "output_type": "stream",
     "text": [
      "[avg_geodisc] >> 1.1904158308327195\n",
      "[avg_ang_dist] >> 0.03820367298442427\n",
      "------ Computing face graph adjacency matrix ... ------\n",
      "Failed to segment model 61\n",
      "----- Computing face adj ... ------\n"
     ]
    },
    {
     "name": "stderr",
     "output_type": "stream",
     "text": [
      "100%|██████████████████████████████████████████████████████████████████████████████████████████████████████████████████████████████████████████████████████████████████| 17218/17218 [00:00<00:00, 90221.05it/s]\n"
     ]
    },
    {
     "name": "stdout",
     "output_type": "stream",
     "text": [
      "------ Computing avg_geodisc and avg_ang_dist matrix + face_objs graph ... ------\n"
     ]
    },
    {
     "name": "stderr",
     "output_type": "stream",
     "text": [
      "100%|███████████████████████████████████████████████████████████████████████████████████████████████████████████████████████████████████████████████████████████████████| 25827/25827 [00:03<00:00, 8025.44it/s]\n"
     ]
    },
    {
     "name": "stdout",
     "output_type": "stream",
     "text": [
      "[avg_geodisc] >> 0.5344734262990971\n",
      "[avg_ang_dist] >> 0.05854811066141312\n",
      "------ Computing face graph adjacency matrix ... ------\n",
      "Failed to segment model 62\n",
      "----- Computing face adj ... ------\n"
     ]
    },
    {
     "name": "stderr",
     "output_type": "stream",
     "text": [
      "100%|██████████████████████████████████████████████████████████████████████████████████████████████████████████████████████████████████████████████████████████████████| 20838/20838 [00:00<00:00, 96281.64it/s]\n"
     ]
    },
    {
     "name": "stdout",
     "output_type": "stream",
     "text": [
      "------ Computing avg_geodisc and avg_ang_dist matrix + face_objs graph ... ------\n"
     ]
    },
    {
     "name": "stderr",
     "output_type": "stream",
     "text": [
      "100%|███████████████████████████████████████████████████████████████████████████████████████████████████████████████████████████████████████████████████████████████████| 31257/31257 [00:03<00:00, 8041.68it/s]\n"
     ]
    },
    {
     "name": "stdout",
     "output_type": "stream",
     "text": [
      "[avg_geodisc] >> 0.46604892025122824\n",
      "[avg_ang_dist] >> 0.05792164963927127\n",
      "------ Computing face graph adjacency matrix ... ------\n",
      "Failed to segment model 63\n",
      "----- Computing face adj ... ------\n"
     ]
    },
    {
     "name": "stderr",
     "output_type": "stream",
     "text": [
      "100%|█████████████████████████████████████████████████████████████████████████████████████████████████████████████████████████████████████████████████████████████████| 16216/16216 [00:00<00:00, 134295.38it/s]"
     ]
    },
    {
     "name": "stdout",
     "output_type": "stream",
     "text": [
      "------ Computing avg_geodisc and avg_ang_dist matrix + face_objs graph ... ------\n"
     ]
    },
    {
     "name": "stderr",
     "output_type": "stream",
     "text": [
      "\n",
      "100%|███████████████████████████████████████████████████████████████████████████████████████████████████████████████████████████████████████████████████████████████████| 24324/24324 [00:03<00:00, 8096.80it/s]\n"
     ]
    },
    {
     "name": "stdout",
     "output_type": "stream",
     "text": [
      "[avg_geodisc] >> 0.6833261671635861\n",
      "[avg_ang_dist] >> 0.029478362557196203\n",
      "------ Computing face graph adjacency matrix ... ------\n",
      "Failed to segment model 64\n",
      "----- Computing face adj ... ------\n"
     ]
    },
    {
     "name": "stderr",
     "output_type": "stream",
     "text": [
      "100%|██████████████████████████████████████████████████████████████████████████████████████████████████████████████████████████████████████████████████████████████████| 21030/21030 [00:00<00:00, 99176.86it/s]\n"
     ]
    },
    {
     "name": "stdout",
     "output_type": "stream",
     "text": [
      "------ Computing avg_geodisc and avg_ang_dist matrix + face_objs graph ... ------\n"
     ]
    },
    {
     "name": "stderr",
     "output_type": "stream",
     "text": [
      "  9%|██████████████▋                                                                                                                                                     | 2829/31567 [00:00<00:03, 8000.68it/s]\n"
     ]
    },
    {
     "name": "stdout",
     "output_type": "stream",
     "text": [
      "Failed to segment model 65\n",
      "----- Computing face adj ... ------\n"
     ]
    },
    {
     "name": "stderr",
     "output_type": "stream",
     "text": [
      "100%|█████████████████████████████████████████████████████████████████████████████████████████████████████████████████████████████████████████████████████████████████| 14532/14532 [00:00<00:00, 133617.20it/s]\n"
     ]
    },
    {
     "name": "stdout",
     "output_type": "stream",
     "text": [
      "------ Computing avg_geodisc and avg_ang_dist matrix + face_objs graph ... ------\n"
     ]
    },
    {
     "name": "stderr",
     "output_type": "stream",
     "text": [
      "100%|███████████████████████████████████████████████████████████████████████████████████████████████████████████████████████████████████████████████████████████████████| 21798/21798 [00:02<00:00, 8076.78it/s]\n"
     ]
    },
    {
     "name": "stdout",
     "output_type": "stream",
     "text": [
      "[avg_geodisc] >> 0.7368928820272227\n",
      "[avg_ang_dist] >> 0.1211915010185342\n",
      "------ Computing face graph adjacency matrix ... ------\n",
      "Failed to segment model 66\n",
      "----- Computing face adj ... ------\n"
     ]
    },
    {
     "name": "stderr",
     "output_type": "stream",
     "text": [
      "100%|██████████████████████████████████████████████████████████████████████████████████████████████████████████████████████████████████████████████████████████████████| 17162/17162 [00:00<00:00, 89653.65it/s]\n"
     ]
    },
    {
     "name": "stdout",
     "output_type": "stream",
     "text": [
      "------ Computing avg_geodisc and avg_ang_dist matrix + face_objs graph ... ------\n"
     ]
    },
    {
     "name": "stderr",
     "output_type": "stream",
     "text": [
      "100%|███████████████████████████████████████████████████████████████████████████████████████████████████████████████████████████████████████████████████████████████████| 25743/25743 [00:03<00:00, 7941.03it/s]\n"
     ]
    },
    {
     "name": "stdout",
     "output_type": "stream",
     "text": [
      "[avg_geodisc] >> 0.47637103064751385\n",
      "[avg_ang_dist] >> 0.0428778570801246\n",
      "------ Computing face graph adjacency matrix ... ------\n",
      "Failed to segment model 67\n",
      "----- Computing face adj ... ------\n"
     ]
    },
    {
     "name": "stderr",
     "output_type": "stream",
     "text": [
      "100%|██████████████████████████████████████████████████████████████████████████████████████████████████████████████████████████████████████████████████████████████████| 14446/14446 [00:00<00:00, 86043.18it/s]\n"
     ]
    },
    {
     "name": "stdout",
     "output_type": "stream",
     "text": [
      "------ Computing avg_geodisc and avg_ang_dist matrix + face_objs graph ... ------\n"
     ]
    },
    {
     "name": "stderr",
     "output_type": "stream",
     "text": [
      "100%|███████████████████████████████████████████████████████████████████████████████████████████████████████████████████████████████████████████████████████████████████| 21669/21669 [00:02<00:00, 8043.78it/s]\n"
     ]
    },
    {
     "name": "stdout",
     "output_type": "stream",
     "text": [
      "[avg_geodisc] >> 0.5567533242039608\n",
      "[avg_ang_dist] >> 0.03148907129318799\n",
      "------ Computing face graph adjacency matrix ... ------\n",
      "Failed to segment model 68\n",
      "----- Computing face adj ... ------\n"
     ]
    },
    {
     "name": "stderr",
     "output_type": "stream",
     "text": [
      "100%|█████████████████████████████████████████████████████████████████████████████████████████████████████████████████████████████████████████████████████████████████| 12554/12554 [00:00<00:00, 129052.03it/s]"
     ]
    },
    {
     "name": "stdout",
     "output_type": "stream",
     "text": [
      "------ Computing avg_geodisc and avg_ang_dist matrix + face_objs graph ... ------\n"
     ]
    },
    {
     "name": "stderr",
     "output_type": "stream",
     "text": [
      "\n",
      "100%|███████████████████████████████████████████████████████████████████████████████████████████████████████████████████████████████████████████████████████████████████| 18831/18831 [00:02<00:00, 7848.57it/s]\n"
     ]
    },
    {
     "name": "stdout",
     "output_type": "stream",
     "text": [
      "[avg_geodisc] >> 5.409205913328641\n",
      "[avg_ang_dist] >> 0.21709028811608244\n",
      "------ Computing face graph adjacency matrix ... ------\n",
      "Failed to segment model 69\n"
     ]
    },
    {
     "ename": "PyMeshLabException",
     "evalue": "File does not exists: /home/ubuntu/imad/segmentation/decimated/model_70.obj",
     "output_type": "error",
     "traceback": [
      "\u001b[0;31m---------------------------------------------------------------------------\u001b[0m",
      "\u001b[0;31mPyMeshLabException\u001b[0m                        Traceback (most recent call last)",
      "Input \u001b[0;32mIn [4]\u001b[0m, in \u001b[0;36m<cell line: 2>\u001b[0;34m()\u001b[0m\n\u001b[1;32m      1\u001b[0m mesh_set \u001b[38;5;241m=\u001b[39m pymeshlab\u001b[38;5;241m.\u001b[39mMeshSet()\n\u001b[1;32m      2\u001b[0m \u001b[38;5;28;01mfor\u001b[39;00m i \u001b[38;5;129;01min\u001b[39;00m \u001b[38;5;28mrange\u001b[39m(\u001b[38;5;241m2\u001b[39m, \u001b[38;5;241m99\u001b[39m):\n\u001b[0;32m----> 3\u001b[0m     \u001b[43mmesh_set\u001b[49m\u001b[38;5;241;43m.\u001b[39;49m\u001b[43mload_new_mesh\u001b[49m\u001b[43m(\u001b[49m\u001b[38;5;124;43mf\u001b[39;49m\u001b[38;5;124;43m\"\u001b[39;49m\u001b[38;5;132;43;01m{\u001b[39;49;00m\u001b[43mmesh_path\u001b[49m\u001b[38;5;132;43;01m}\u001b[39;49;00m\u001b[38;5;132;43;01m{\u001b[39;49;00m\u001b[43mi\u001b[49m\u001b[38;5;132;43;01m}\u001b[39;49;00m\u001b[38;5;124;43m.obj\u001b[39;49m\u001b[38;5;124;43m\"\u001b[39;49m\u001b[43m)\u001b[49m\n\u001b[1;32m      4\u001b[0m     mesh_set\u001b[38;5;241m.\u001b[39mset_current_mesh(i \u001b[38;5;241m-\u001b[39m \u001b[38;5;241m2\u001b[39m)\n\u001b[1;32m      5\u001b[0m     \u001b[38;5;28;01mtry\u001b[39;00m: labels \u001b[38;5;241m=\u001b[39m segment_mesh(mesh_set\u001b[38;5;241m.\u001b[39mcurrent_mesh(), \u001b[38;5;124m\"\u001b[39m\u001b[38;5;124m/home/ubuntu/imad/segmentation/decimated_sims\u001b[39m\u001b[38;5;124m\"\u001b[39m, k \u001b[38;5;241m=\u001b[39m \u001b[38;5;241m6\u001b[39m)\n",
      "\u001b[0;31mPyMeshLabException\u001b[0m: File does not exists: /home/ubuntu/imad/segmentation/decimated/model_70.obj"
     ]
    }
   ],
   "source": [
    "mesh_set = pymeshlab.MeshSet()\n",
    "for i in range(2, 99):\n",
    "    mesh_set.load_new_mesh(f\"{mesh_path}{i}.obj\")\n",
    "    mesh_set.set_current_mesh(i - 2)\n",
    "    try: labels = segment_mesh(mesh_set.current_mesh(), \"/home/ubuntu/imad/segmentation/decimated_sims\", k = 6)\n",
    "    except: print(f\"Failed to segment model {i}\")\n",
    "    "
   ]
  },
  {
   "cell_type": "code",
   "execution_count": null,
   "id": "dd168376",
   "metadata": {},
   "outputs": [],
   "source": [
    "for i in range(2, 99):   \n",
    "    mesh_set.set_current_mesh(i - 2)\n",
    "    mesh = mesh_set.current_mesh()\n",
    "    faces = mesh.face_matrix()\n",
    "    vertices = mesh.vertex_matrix()\n",
    "\n",
    "    m = faces.shape[0]\n",
    "    face_colors = np.zeros((m, 4))\n",
    "    for i in tqdm(range(m)):\n",
    "        face_colors[i] = colors[labels[i]]\n",
    "\n",
    "    mesh_set.add_mesh(pymeshlab.Mesh(vertices, faces, f_color_matrix=face_colors))\n",
    "    mesh_set.save_current_mesh(f\"{mesh_dir}/model_{i}_segmented.obj\")"
   ]
  },
  {
   "cell_type": "code",
   "execution_count": null,
   "id": "7106f28a",
   "metadata": {},
   "outputs": [],
   "source": [
    "x = {i: 0 for i in range(len(set(labels)))}\n",
    "for i in labels: x[i] += 1\n",
    "print(x)"
   ]
  },
  {
   "cell_type": "code",
   "execution_count": null,
   "id": "521f08b7",
   "metadata": {},
   "outputs": [],
   "source": []
  }
 ],
 "metadata": {
  "kernelspec": {
   "display_name": "Python3 (ss3d)",
   "language": "python",
   "name": "ss3d"
  },
  "language_info": {
   "codemirror_mode": {
    "name": "ipython",
    "version": 3
   },
   "file_extension": ".py",
   "mimetype": "text/x-python",
   "name": "python",
   "nbconvert_exporter": "python",
   "pygments_lexer": "ipython3",
   "version": "3.9.13"
  }
 },
 "nbformat": 4,
 "nbformat_minor": 5
}

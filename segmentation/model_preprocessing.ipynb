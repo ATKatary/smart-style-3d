{
 "cells": [
  {
   "cell_type": "markdown",
   "id": "b7c64b59",
   "metadata": {},
   "source": [
    "# Model preprocessing"
   ]
  },
  {
   "cell_type": "markdown",
   "id": "ffe89f17",
   "metadata": {},
   "source": [
    "#### Imports"
   ]
  },
  {
   "cell_type": "code",
   "execution_count": null,
   "id": "2d7fe7bc",
   "metadata": {},
   "outputs": [],
   "source": [
    "import os\n",
    "import pymeshlab\n",
    "import numpy as np\n",
    "from tqdm import tqdm\n",
    "from segmentation_utils.base_detection import (\n",
    "    _check_mesh\n",
    ")\n",
    "from segmentation_utils.preprocessing import (\n",
    "    _npz_to_obj,\n",
    "    _obj_to_npz,\n",
    "    _prepare_edges_and_kdtree_with_vertices_faces\n",
    ")"
   ]
  },
  {
   "cell_type": "code",
   "execution_count": null,
   "id": "9e110423",
   "metadata": {},
   "outputs": [],
   "source": [
    "imad = \"/home/ubuntu/imad\"\n",
    "fomrative_dir = f\"{imad}/formative_models_oriented\"\n",
    "models_dir = f\"{imad}/segmentation/models\"\n",
    "mesh_dir = f\"{models_dir}/vases/vase_1\"\n",
    "mesh_path = f\"{fomrative_dir}/model_1/model.obj\"\n",
    "npz_dir = f\"{models_dir}/npz\"\n",
    "_check_mesh(mesh_path)"
   ]
  },
  {
   "cell_type": "code",
   "execution_count": null,
   "id": "50066d05",
   "metadata": {},
   "outputs": [],
   "source": [
    "for i in range(45):\n",
    "    remeshed_seg_dir = \"/home/ubuntu/MeshWalker/Remeshed_Segmentation\"\n",
    "    npz = _npz_to_obj(f\"/home/ubuntu/MeshWalker/tests_3/Model_{i}.npz\", f\"/home/ubuntu/MeshWalker/tests_3/Model_{i}\", segment = True)"
   ]
  },
  {
   "cell_type": "code",
   "execution_count": null,
   "id": "75133f0f",
   "metadata": {},
   "outputs": [],
   "source": []
  }
 ],
 "metadata": {
  "kernelspec": {
   "display_name": "Python3 (ss3d)",
   "language": "python",
   "name": "ss3d"
  },
  "language_info": {
   "codemirror_mode": {
    "name": "ipython",
    "version": 3
   },
   "file_extension": ".py",
   "mimetype": "text/x-python",
   "name": "python",
   "nbconvert_exporter": "python",
   "pygments_lexer": "ipython3",
   "version": "3.9.13"
  }
 },
 "nbformat": 4,
 "nbformat_minor": 5
}

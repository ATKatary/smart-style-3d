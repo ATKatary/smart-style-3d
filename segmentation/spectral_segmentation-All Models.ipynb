{
 "cells": [
  {
   "cell_type": "code",
   "execution_count": 20,
   "id": "f870c4c5",
   "metadata": {},
   "outputs": [],
   "source": [
    "import pymeshlab\n",
    "import numpy as np\n",
    "from tqdm import tqdm\n",
    "from segment import segment_mesh\n",
    "import pymesh"
   ]
  },
  {
   "cell_type": "code",
   "execution_count": 58,
   "id": "22ea0b92",
   "metadata": {},
   "outputs": [],
   "source": [
    "from segmentation_utils.base_detection import (\n",
    "    _check_mesh,\n",
    "    _subset,\n",
    "    _plot,\n",
    "    _save_modified_mesh,\n",
    "    _get_normal_to_vertices,\n",
    "    _get_open_mesh,\n",
    "    _get_connected_components,\n",
    "    _get_edges,\n",
    "    _get_wire_network,\n",
    "    _dist,\n",
    "    _get_outer_layer,\n",
    "    _get_cog,\n",
    "    _get_midpoint,\n",
    "    _law_of_cosine,\n",
    "    _get_bases\n",
    ")"
   ]
  },
  {
   "cell_type": "code",
   "execution_count": 51,
   "id": "64e5f240",
   "metadata": {},
   "outputs": [],
   "source": [
    "mesh = pymesh.load_mesh(fomrative_dir + '/model_3/model_decimated.obj')"
   ]
  },
  {
   "cell_type": "code",
   "execution_count": 52,
   "id": "e9e10ba2",
   "metadata": {},
   "outputs": [],
   "source": [
    "mesh, info = pymesh.remove_duplicated_faces(mesh)\n",
    "mesh, info = pymesh.remove_isolated_vertices(mesh)\n",
    "# mesh = pymesh.subdivide(mesh, order=2, method=\"loop\")"
   ]
  },
  {
   "cell_type": "code",
   "execution_count": 53,
   "id": "0590ff61",
   "metadata": {},
   "outputs": [],
   "source": [
    "pymesh.save_mesh(fomrative_dir + '/model_3/model_decimated.obj', mesh);"
   ]
  },
  {
   "cell_type": "code",
   "execution_count": 64,
   "id": "83e854f1",
   "metadata": {},
   "outputs": [],
   "source": [
    "imad = \"/home/ubuntu/imad\"\n",
    "models_dir = f\"{imad}/segmentation/models\"\n",
    "fomrative_dir = f\"{imad}/formative_models_oriented\"\n",
    "\n",
    "mesh_dir = f\"{fomrative_dir}/model_2/\"\n",
    "mesh_path = f\"{fomrative_dir}/model_3/model.obj\"\n",
    "\n",
    "colors = [[1, 1, 1, 1], [1, 0, 0, 1], [0, 1, 0, 1], [0, 0, 1, 1], [1, 0.8, 1, 1], [1, 0.1, 0.6, 1], [1, 0.647, 0, 1]]"
   ]
  },
  {
   "cell_type": "code",
   "execution_count": 65,
   "id": "356254af",
   "metadata": {
    "scrolled": true
   },
   "outputs": [
    {
     "name": "stdout",
     "output_type": "stream",
     "text": [
      "----- Computing face adj ... ------\n"
     ]
    },
    {
     "name": "stderr",
     "output_type": "stream",
     "text": [
      "100%|███████████████████████████████████████| 12010/12010 [00:00<00:00, 56430.19it/s]\n"
     ]
    },
    {
     "name": "stdout",
     "output_type": "stream",
     "text": [
      "------ Computing avg_geodisc and avg_ang_dist ... ------\n"
     ]
    },
    {
     "name": "stderr",
     "output_type": "stream",
     "text": [
      "100%|████████████████████████████████████████| 18015/18015 [00:02<00:00, 7854.23it/s]\n"
     ]
    },
    {
     "name": "stdout",
     "output_type": "stream",
     "text": [
      "[avg_geodisc] >> 1.8571132041921927\n",
      "[avg_ang_dist] >> 0.08084516807226387\n",
      "------ Computing face graph adjacency matrix ... ------\n",
      "------ Computing similarity matrix ... ------\n"
     ]
    },
    {
     "ename": "KeyboardInterrupt",
     "evalue": "",
     "output_type": "error",
     "traceback": [
      "\u001b[0;31m---------------------------------------------------------------------------\u001b[0m",
      "\u001b[0;31mKeyboardInterrupt\u001b[0m                         Traceback (most recent call last)",
      "Input \u001b[0;32mIn [65]\u001b[0m, in \u001b[0;36m<cell line: 6>\u001b[0;34m()\u001b[0m\n\u001b[1;32m      4\u001b[0m mesh_set\u001b[38;5;241m.\u001b[39mmeshing_isotropic_explicit_remeshing(iterations\u001b[38;5;241m=\u001b[39m\u001b[38;5;241m1\u001b[39m)\n\u001b[1;32m      5\u001b[0m \u001b[38;5;66;03m# mesh_set.meshing_decimation_clustering(threshold=pymeshlab.Percentage(2.0))\u001b[39;00m\n\u001b[0;32m----> 6\u001b[0m labels \u001b[38;5;241m=\u001b[39m \u001b[43msegment_mesh\u001b[49m\u001b[43m(\u001b[49m\u001b[43mmesh_set\u001b[49m\u001b[38;5;241;43m.\u001b[39;49m\u001b[43mcurrent_mesh\u001b[49m\u001b[43m(\u001b[49m\u001b[43m)\u001b[49m\u001b[43m,\u001b[49m\u001b[43m \u001b[49m\u001b[43mk\u001b[49m\u001b[43m \u001b[49m\u001b[38;5;241;43m=\u001b[39;49m\u001b[43m \u001b[49m\u001b[38;5;241;43m6\u001b[39;49m\u001b[43m)\u001b[49m\n",
      "File \u001b[0;32m~/imad/segmentation/segment.py:44\u001b[0m, in \u001b[0;36msegment_mesh\u001b[0;34m(mesh, k)\u001b[0m\n\u001b[1;32m     41\u001b[0m mesh_graph \u001b[38;5;241m=\u001b[39m FaceGraph(mesh)\n\u001b[1;32m     43\u001b[0m \u001b[38;5;66;03m# Step 2\u001b[39;00m\n\u001b[0;32m---> 44\u001b[0m similarity_matrix \u001b[38;5;241m=\u001b[39m \u001b[43mmesh_graph\u001b[49m\u001b[38;5;241;43m.\u001b[39;49m\u001b[43msimilarity_matrix\u001b[49m\u001b[43m(\u001b[49m\u001b[43m)\u001b[49m\n\u001b[1;32m     46\u001b[0m \u001b[38;5;66;03m# Step 3\u001b[39;00m\n\u001b[1;32m     47\u001b[0m sqrt_degree \u001b[38;5;241m=\u001b[39m np\u001b[38;5;241m.\u001b[39msqrt(mesh_graph\u001b[38;5;241m.\u001b[39mdegree_matrix)\n",
      "File \u001b[0;32m~/imad/segmentation/face_graph.py:78\u001b[0m, in \u001b[0;36mFaceGraph.similarity_matrix\u001b[0;34m(self)\u001b[0m\n\u001b[1;32m     74\u001b[0m \u001b[38;5;124;03m\"\"\"\u001b[39;00m\n\u001b[1;32m     75\u001b[0m \u001b[38;5;124;03mComputes the similairty matrix of the graph\u001b[39;00m\n\u001b[1;32m     76\u001b[0m \u001b[38;5;124;03m\"\"\"\u001b[39;00m\n\u001b[1;32m     77\u001b[0m \u001b[38;5;28mprint\u001b[39m(\u001b[38;5;124m\"\u001b[39m\u001b[38;5;124m------ Computing similarity matrix ... ------\u001b[39m\u001b[38;5;124m\"\u001b[39m)\n\u001b[0;32m---> 78\u001b[0m matrix \u001b[38;5;241m=\u001b[39m \u001b[43mscipy\u001b[49m\u001b[38;5;241;43m.\u001b[39;49m\u001b[43msparse\u001b[49m\u001b[38;5;241;43m.\u001b[39;49m\u001b[43mcsgraph\u001b[49m\u001b[38;5;241;43m.\u001b[39;49m\u001b[43mdijkstra\u001b[49m\u001b[43m(\u001b[49m\u001b[38;5;28;43mself\u001b[39;49m\u001b[38;5;241;43m.\u001b[39;49m\u001b[43madj_matrix\u001b[49m\u001b[43m)\u001b[49m\n\u001b[1;32m     79\u001b[0m \u001b[38;5;66;03m# matrix[matrix == np.nan] = 0\u001b[39;00m\n\u001b[1;32m     80\u001b[0m inf_indices \u001b[38;5;241m=\u001b[39m np\u001b[38;5;241m.\u001b[39mwhere(np\u001b[38;5;241m.\u001b[39misinf(matrix))\n",
      "\u001b[0;31mKeyboardInterrupt\u001b[0m: "
     ]
    }
   ],
   "source": [
    "mesh_set = pymeshlab.MeshSet()\n",
    "mesh_set.load_new_mesh(mesh_path)\n",
    "mesh_set.apply_coord_two_steps_smoothing()\n",
    "# mesh_set.meshing_isotropic_explicit_remeshing(iterations=1)\n",
    "# mesh_set.meshing_decimation_clustering(threshold=pymeshlab.Percentage(2.0))\n",
    "labels = segment_mesh(mesh_set.current_mesh(), k = 6)"
   ]
  },
  {
   "cell_type": "code",
   "execution_count": 4,
   "id": "dd168376",
   "metadata": {},
   "outputs": [
    {
     "name": "stderr",
     "output_type": "stream",
     "text": [
      "100%|██████████████████████████████████████| 12002/12002 [00:00<00:00, 349785.20it/s]\n"
     ]
    }
   ],
   "source": [
    "mesh = mesh_set.current_mesh()\n",
    "faces = mesh.face_matrix()\n",
    "vertices = mesh.vertex_matrix()\n",
    "\n",
    "m = faces.shape[0]\n",
    "face_colors = np.zeros((m, 4))\n",
    "for i in tqdm(range(m)):\n",
    "    face_colors[i] = colors[labels[i]]\n",
    "\n",
    "mesh_set.add_mesh(pymeshlab.Mesh(vertices, faces, f_color_matrix=face_colors))\n",
    "mesh_set.save_current_mesh(f\"{mesh_dir}/phone_holder_segmented.obj\")"
   ]
  },
  {
   "cell_type": "code",
   "execution_count": 5,
   "id": "7106f28a",
   "metadata": {},
   "outputs": [
    {
     "name": "stdout",
     "output_type": "stream",
     "text": [
      "{0: 1820, 1: 3510, 2: 1630, 3: 763, 4: 3283, 5: 996}\n"
     ]
    }
   ],
   "source": [
    "x = {i: 0 for i in range(len(set(labels)))}\n",
    "for i in labels: x[i] += 1\n",
    "print(x)"
   ]
  },
  {
   "cell_type": "code",
   "execution_count": null,
   "id": "521f08b7",
   "metadata": {},
   "outputs": [],
   "source": []
  }
 ],
 "metadata": {
  "kernelspec": {
   "display_name": "Python3 (ss3d)",
   "language": "python",
   "name": "ss3d"
  },
  "language_info": {
   "codemirror_mode": {
    "name": "ipython",
    "version": 3
   },
   "file_extension": ".py",
   "mimetype": "text/x-python",
   "name": "python",
   "nbconvert_exporter": "python",
   "pygments_lexer": "ipython3",
   "version": "3.9.13"
  }
 },
 "nbformat": 4,
 "nbformat_minor": 5
}

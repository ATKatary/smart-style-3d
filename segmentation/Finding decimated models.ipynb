{
 "cells": [
  {
   "cell_type": "code",
   "execution_count": 9,
   "id": "6e79ed6a",
   "metadata": {},
   "outputs": [],
   "source": [
    "import os\n",
    "  \n",
    "# Get the list of all files and directories\n",
    "# in the root directory\n",
    "path = \"./all_segmentations/\"\n",
    "dir_list = os.listdir(path)"
   ]
  },
  {
   "cell_type": "code",
   "execution_count": 4,
   "id": "1674f753",
   "metadata": {},
   "outputs": [],
   "source": [
    "import json\n",
    "with open('all_models_decimated_for_segmentation.txt', 'w') as f:\n",
    "    for val in dir_list:\n",
    "        f.write(val + '\\n')"
   ]
  },
  {
   "cell_type": "code",
   "execution_count": 10,
   "id": "18ca8602",
   "metadata": {},
   "outputs": [
    {
     "data": {
      "text/plain": [
       "104"
      ]
     },
     "execution_count": 10,
     "metadata": {},
     "output_type": "execute_result"
    }
   ],
   "source": [
    "len(dir_list)"
   ]
  },
  {
   "cell_type": "code",
   "execution_count": null,
   "id": "afc92b15",
   "metadata": {},
   "outputs": [],
   "source": []
  }
 ],
 "metadata": {
  "kernelspec": {
   "display_name": "Python3 (ss3d)",
   "language": "python",
   "name": "ss3d"
  },
  "language_info": {
   "codemirror_mode": {
    "name": "ipython",
    "version": 3
   },
   "file_extension": ".py",
   "mimetype": "text/x-python",
   "name": "python",
   "nbconvert_exporter": "python",
   "pygments_lexer": "ipython3",
   "version": "3.9.13"
  }
 },
 "nbformat": 4,
 "nbformat_minor": 5
}

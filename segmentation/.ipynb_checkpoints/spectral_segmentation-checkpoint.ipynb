{
 "cells": [
  {
   "cell_type": "code",
   "execution_count": 1,
   "id": "f870c4c5",
   "metadata": {},
   "outputs": [],
   "source": [
    "import pymeshlab\n",
    "import numpy as np\n",
    "from tqdm import tqdm\n",
    "from segment import segment_mesh"
   ]
  },
  {
   "cell_type": "code",
   "execution_count": 2,
   "id": "83e854f1",
   "metadata": {},
   "outputs": [],
   "source": [
    "imad = \"/home/ubuntu/imad\"\n",
    "models_dir = f\"{imad}/segmentation/models\"\n",
    "fomrative_dir = f\"{imad}/formative_models_oriented\"\n",
    "\n",
    "mesh_dir = f\"{models_dir}/vases\"\n",
    "mesh_path = f\"{mesh_dir}/vase_1.obj\"\n",
    "\n",
    "colors = [[1, 1, 1, 1], [1, 0, 0, 1], [0, 1, 0, 1], [0, 0, 1, 1], [1, 0.8, 1, 1], [1, 0.1, 0.6, 1], [1, 0.647, 0, 1]]"
   ]
  },
  {
   "cell_type": "code",
   "execution_count": 3,
   "id": "356254af",
   "metadata": {},
   "outputs": [
    {
     "name": "stdout",
     "output_type": "stream",
     "text": [
      "----- Computing face adj ... ------\n"
     ]
    },
    {
     "name": "stderr",
     "output_type": "stream",
     "text": [
      "100%|████████████████████████████████████████████████████████████████████████████████████████████████████████████████████████████████████| 12002/12002 [00:00<00:00, 88025.68it/s]\n"
     ]
    },
    {
     "name": "stdout",
     "output_type": "stream",
     "text": [
      "------ Computing avg_geodisc and avg_ang_dist ... ------\n"
     ]
    },
    {
     "name": "stderr",
     "output_type": "stream",
     "text": [
      "100%|█████████████████████████████████████████████████████████████████████████████████████████████████████████████████████████████████████| 18003/18003 [00:02<00:00, 7422.96it/s]\n"
     ]
    },
    {
     "name": "stdout",
     "output_type": "stream",
     "text": [
      "[avg_geodisc] >> 1.8378278653130926\n",
      "[avg_ang_dist] >> 0.06018383776857079\n",
      "------ Computing face graph adjacency matrix ... ------\n",
      "------ Computing similarity matrix ... ------\n",
      "[sigma] >> 13.057157125838385\n"
     ]
    }
   ],
   "source": [
    "mesh_set = pymeshlab.MeshSet()\n",
    "mesh_set.load_new_mesh(mesh_path)\n",
    "labels = segment_mesh(mesh_set.current_mesh(), k = 6)"
   ]
  },
  {
   "cell_type": "code",
   "execution_count": 4,
   "id": "dd168376",
   "metadata": {},
   "outputs": [
    {
     "name": "stderr",
     "output_type": "stream",
     "text": [
      "100%|███████████████████████████████████████████████████████████████████████████████████████████████████████████████████████████████████| 12002/12002 [00:00<00:00, 412207.66it/s]\n"
     ]
    }
   ],
   "source": [
    "mesh = mesh_set.current_mesh()\n",
    "faces = mesh.face_matrix()\n",
    "vertices = mesh.vertex_matrix()\n",
    "\n",
    "m = faces.shape[0]\n",
    "face_colors = np.zeros((m, 4))\n",
    "for i in tqdm(range(m)):\n",
    "    face_colors[i] = colors[labels[i]]\n",
    "\n",
    "mesh_set.add_mesh(pymeshlab.Mesh(vertices, faces, f_color_matrix=face_colors))\n",
    "mesh_set.save_current_mesh(f\"{mesh_dir}/phone_holder_segmented.obj\")"
   ]
  },
  {
   "cell_type": "code",
   "execution_count": 5,
   "id": "7106f28a",
   "metadata": {},
   "outputs": [
    {
     "name": "stdout",
     "output_type": "stream",
     "text": [
      "{0: 1820, 1: 3510, 2: 1630, 3: 763, 4: 3283, 5: 996}\n"
     ]
    }
   ],
   "source": [
    "x = {i: 0 for i in range(len(set(labels)))}\n",
    "for i in labels: x[i] += 1\n",
    "print(x)"
   ]
  },
  {
   "cell_type": "code",
   "execution_count": null,
   "id": "521f08b7",
   "metadata": {},
   "outputs": [],
   "source": []
  }
 ],
 "metadata": {
  "kernelspec": {
   "display_name": "Python3 (ss3d)",
   "language": "python",
   "name": "ss3d"
  },
  "language_info": {
   "codemirror_mode": {
    "name": "ipython",
    "version": 3
   },
   "file_extension": ".py",
   "mimetype": "text/x-python",
   "name": "python",
   "nbconvert_exporter": "python",
   "pygments_lexer": "ipython3",
   "version": "3.9.13"
  }
 },
 "nbformat": 4,
 "nbformat_minor": 5
}

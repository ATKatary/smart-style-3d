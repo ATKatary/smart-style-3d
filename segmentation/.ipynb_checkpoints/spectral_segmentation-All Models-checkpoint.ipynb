{
 "cells": [
  {
   "cell_type": "code",
   "execution_count": 20,
   "id": "f870c4c5",
   "metadata": {},
   "outputs": [],
   "source": [
    "import pymeshlab\n",
    "import numpy as np\n",
    "from tqdm import tqdm\n",
    "from segment import segment_mesh\n",
    "import pymesh"
   ]
  },
  {
   "cell_type": "code",
   "execution_count": 26,
   "id": "13cba43a",
   "metadata": {},
   "outputs": [
    {
     "name": "stdout",
     "output_type": "stream",
     "text": [
      "input mesh has 26064 vertex and 52104 faces\n",
      "Decimated to 10100 faces mesh has 5065 vertex\n",
      "Decimated to 10035 faces mesh has 5032 vertex\n",
      "Decimated to 10003 faces mesh has 5016 vertex\n",
      "Decimated to 9987 faces mesh has 5008 vertex\n",
      "Decimated to 9979 faces mesh has 5004 vertex\n",
      "Decimated to 9975 faces mesh has 5002 vertex\n",
      "Decimated to 9973 faces mesh has 5001 vertex\n",
      "Decimated to 9972 faces mesh has 5001 vertex\n",
      "Decimated to 9971 faces mesh has 5000 vertex\n",
      "output mesh has 5000 vertex and 9970 faces\n"
     ]
    }
   ],
   "source": [
    "import pymeshlab as ml\n",
    "ms = ml.MeshSet()\n",
    "ms.load_new_mesh(fomrative_dir + '/model_2/model.obj')\n",
    "m = ms.current_mesh()\n",
    "print('input mesh has', m.vertex_number(), 'vertex and', m.face_number(), 'faces')\n",
    "\n",
    "#Target number of vertex\n",
    "TARGET=5000\n",
    "\n",
    "#Estimate number of faces to have 100+10000 vertex using Euler\n",
    "numFaces = 100 + 2*TARGET\n",
    "\n",
    "#Simplify the mesh. Only first simplification will be agressive\n",
    "while (ms.current_mesh().vertex_number() > TARGET):\n",
    "    ms.apply_filter('meshing_decimation_quadric_edge_collapse', targetfacenum=numFaces, preservenormal=True)\n",
    "    print(\"Decimated to\", numFaces, \"faces mesh has\", ms.current_mesh().vertex_number(), \"vertex\")\n",
    "    #Refine our estimation to slowly converge to TARGET vertex number\n",
    "    numFaces = numFaces - (ms.current_mesh().vertex_number() - TARGET)\n",
    "\n",
    "m = ms.current_mesh()\n",
    "print('output mesh has', m.vertex_number(), 'vertex and', m.face_number(), 'faces')\n",
    "ms.save_current_mesh(fomrative_dir + '/model_2/model.obj')"
   ]
  },
  {
   "cell_type": "code",
   "execution_count": 51,
   "id": "11e4ca52",
   "metadata": {},
   "outputs": [],
   "source": [
    "mesh = pymesh.load_mesh(fomrative_dir + '/model_3/model_decimated.obj')"
   ]
  },
  {
   "cell_type": "code",
   "execution_count": 52,
   "id": "ace70204",
   "metadata": {},
   "outputs": [],
   "source": [
    "mesh, info = pymesh.remove_duplicated_faces(mesh)\n",
    "mesh, info = pymesh.remove_isolated_vertices(mesh)\n",
    "# mesh = pymesh.subdivide(mesh, order=2, method=\"loop\")"
   ]
  },
  {
   "cell_type": "code",
   "execution_count": 49,
   "id": "1636ce5f",
   "metadata": {},
   "outputs": [],
   "source": [
    "pymesh.save_mesh(fomrative_dir + '/model_3/model_decimated.obj', mesh);"
   ]
  },
  {
   "cell_type": "code",
   "execution_count": 45,
   "id": "83e854f1",
   "metadata": {},
   "outputs": [],
   "source": [
    "imad = \"/home/ubuntu/imad\"\n",
    "models_dir = f\"{imad}/segmentation/models\"\n",
    "fomrative_dir = f\"{imad}/formative_models_oriented\"\n",
    "\n",
    "mesh_dir = f\"{fomrative_dir}/model_2/\"\n",
    "mesh_path = f\"{fomrative_dir}/model_2/model_decimated.obj\"\n",
    "\n",
    "colors = [[1, 1, 1, 1], [1, 0, 0, 1], [0, 1, 0, 1], [0, 0, 1, 1], [1, 0.8, 1, 1], [1, 0.1, 0.6, 1], [1, 0.647, 0, 1]]"
   ]
  },
  {
   "cell_type": "code",
   "execution_count": 50,
   "id": "356254af",
   "metadata": {},
   "outputs": [
    {
     "name": "stdout",
     "output_type": "stream",
     "text": [
      "----- Computing face adj ... ------\n"
     ]
    },
    {
     "name": "stderr",
     "output_type": "stream",
     "text": [
      "100%|████████████████████████████████████████| 9970/9970 [00:00<00:00, 125387.43it/s]\n"
     ]
    },
    {
     "name": "stdout",
     "output_type": "stream",
     "text": [
      "------ Computing avg_geodisc and avg_ang_dist ... ------\n"
     ]
    },
    {
     "name": "stderr",
     "output_type": "stream",
     "text": [
      "100%|████████████████████████████████████████| 14955/14955 [00:01<00:00, 7928.77it/s]\n"
     ]
    },
    {
     "name": "stdout",
     "output_type": "stream",
     "text": [
      "[avg_geodisc] >> 0.9159753899154024\n",
      "[avg_ang_dist] >> 0.07443692369125797\n",
      "------ Computing face graph adjacency matrix ... ------\n",
      "------ Computing similarity matrix ... ------\n",
      "[sigma] >> 7.540245936274494\n"
     ]
    }
   ],
   "source": [
    "mesh_set = pymeshlab.MeshSet()\n",
    "mesh_set.load_new_mesh(mesh_path)\n",
    "# mesh_set.meshing_isotropic_explicit_remeshing(iterations=1)\n",
    "# mesh_set.meshing_decimation_clustering(threshold=pymeshlab.Percentage(2.0))\n",
    "labels = segment_mesh(mesh_set.current_mesh(), k = 6)"
   ]
  },
  {
   "cell_type": "code",
   "execution_count": 4,
   "id": "dd168376",
   "metadata": {},
   "outputs": [
    {
     "name": "stderr",
     "output_type": "stream",
     "text": [
      "100%|██████████████████████████████████████| 12002/12002 [00:00<00:00, 349785.20it/s]\n"
     ]
    }
   ],
   "source": [
    "mesh = mesh_set.current_mesh()\n",
    "faces = mesh.face_matrix()\n",
    "vertices = mesh.vertex_matrix()\n",
    "\n",
    "m = faces.shape[0]\n",
    "face_colors = np.zeros((m, 4))\n",
    "for i in tqdm(range(m)):\n",
    "    face_colors[i] = colors[labels[i]]\n",
    "\n",
    "mesh_set.add_mesh(pymeshlab.Mesh(vertices, faces, f_color_matrix=face_colors))\n",
    "mesh_set.save_current_mesh(f\"{mesh_dir}/phone_holder_segmented.obj\")"
   ]
  },
  {
   "cell_type": "code",
   "execution_count": 5,
   "id": "7106f28a",
   "metadata": {},
   "outputs": [
    {
     "name": "stdout",
     "output_type": "stream",
     "text": [
      "{0: 1820, 1: 3510, 2: 1630, 3: 763, 4: 3283, 5: 996}\n"
     ]
    }
   ],
   "source": [
    "x = {i: 0 for i in range(len(set(labels)))}\n",
    "for i in labels: x[i] += 1\n",
    "print(x)"
   ]
  },
  {
   "cell_type": "code",
   "execution_count": null,
   "id": "521f08b7",
   "metadata": {},
   "outputs": [],
   "source": []
  }
 ],
 "metadata": {
  "kernelspec": {
   "display_name": "Python3 (ss3d)",
   "language": "python",
   "name": "ss3d"
  },
  "language_info": {
   "codemirror_mode": {
    "name": "ipython",
    "version": 3
   },
   "file_extension": ".py",
   "mimetype": "text/x-python",
   "name": "python",
   "nbconvert_exporter": "python",
   "pygments_lexer": "ipython3",
   "version": "3.9.13"
  }
 },
 "nbformat": 4,
 "nbformat_minor": 5
}

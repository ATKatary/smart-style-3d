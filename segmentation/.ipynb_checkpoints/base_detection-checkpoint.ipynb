{
 "cells": [
  {
   "cell_type": "markdown",
   "id": "c34f04bc",
   "metadata": {},
   "source": [
    "# Smart Segmentation"
   ]
  },
  {
   "cell_type": "markdown",
   "id": "66c09e2f",
   "metadata": {},
   "source": [
    "#### Imports"
   ]
  },
  {
   "cell_type": "code",
   "execution_count": 1,
   "id": "ea315efe",
   "metadata": {
    "scrolled": true
   },
   "outputs": [],
   "source": [
    "import os\n",
    "import pymesh\n",
    "import pymeshlab\n",
    "import numpy as np\n",
    "%matplotlib inline \n",
    "from tqdm import tqdm\n",
    "import matplotlib.pyplot as plt\n",
    "from kaolin.io.obj import (import_mesh)\n",
    "from mpl_toolkits.mplot3d import Axes3D\n",
    "from segmentation_utils.base_detection import (\n",
    "    _check_mesh,\n",
    "    _subset,\n",
    "    _plot,\n",
    "    _save_modified_mesh,\n",
    "    _get_normal_to_vertices,\n",
    "    _get_open_mesh,\n",
    "    _get_connected_components,\n",
    "    _get_edges,\n",
    "    _get_wire_network,\n",
    "    _dist,\n",
    "    _get_outer_layer,\n",
    "    _get_cog,\n",
    "    _get_midpoint,\n",
    "    _law_of_cosine,\n",
    "    _get_bases\n",
    ")\n",
    "from segmentation_utils.preprocessing import (\n",
    "    _npz_to_obj,\n",
    "    _obj_to_npz\n",
    ")"
   ]
  },
  {
   "cell_type": "code",
   "execution_count": 2,
   "id": "4c587a5b",
   "metadata": {},
   "outputs": [
    {
     "name": "stdout",
     "output_type": "stream",
     "text": [
      "\u001b[92mSuccess[/home/ubuntu/imad/segmentation/models/vases/vase_1/vase.obj is good!]: Number of verticies (21311) == the number of normals (21311)\u001b[0m\n"
     ]
    }
   ],
   "source": [
    "# Assumption is model is positioned such that base has it's y-coordinate minimized\n",
    "maximas_path = lambda mesh_dir, coord: f\"{mesh_dir}/{coord}_maximas.obj\"\n",
    "minimas_path = lambda mesh_dir, coord: f\"{mesh_dir}/{coord}_minimas.obj\"\n",
    "imad = \"/home/ubuntu/imad\"\n",
    "models_dir = f\"{imad}/segmentation/models\"\n",
    "fomrative_dir = f\"{imad}/formative_models_oriented\"\n",
    "\n",
    "mesh_dir = f\"{models_dir}/vases/vase_1\"\n",
    "mesh_path = f\"{mesh_dir}/vase.obj\"\n",
    "open_mesh_path = f\"{mesh_dir}/open_mesh.obj\"\n",
    "\n",
    "e = 0.1\n",
    "axes = (\"x\", \"y\", \"z\")\n",
    "_check_mesh(mesh_path)\n",
    "axes_colors = {\"x\": [0, 1], \"y\": [2, 3], \"z\": [4, 5]}"
   ]
  },
  {
   "cell_type": "markdown",
   "id": "1315e185",
   "metadata": {},
   "source": [
    "#### Computing extremas"
   ]
  },
  {
   "cell_type": "code",
   "execution_count": 3,
   "id": "f20e32b8",
   "metadata": {},
   "outputs": [
    {
     "name": "stdout",
     "output_type": "stream",
     "text": [
      "\u001b[92mSuccess[/home/ubuntu/imad/formative_models_oriented/model_1/model.obj is good!]: Number of verticies (54775) == the number of normals (54775)\u001b[0m\n",
      "Completed model 1\n",
      "\u001b[92mSuccess[/home/ubuntu/imad/formative_models_oriented/model_2/model.obj is good!]: Number of verticies (26064) == the number of normals (26064)\u001b[0m\n",
      "Completed model 2\n",
      "\u001b[92mSuccess[/home/ubuntu/imad/formative_models_oriented/model_3/model.obj is good!]: Number of verticies (6001) == the number of normals (6001)\u001b[0m\n",
      "Completed model 3\n",
      "\u001b[92mSuccess[/home/ubuntu/imad/formative_models_oriented/model_4/model.obj is good!]: Number of verticies (18528) == the number of normals (18528)\u001b[0m\n",
      "Completed model 4\n",
      "\u001b[92mSuccess[/home/ubuntu/imad/formative_models_oriented/model_5/model.obj is good!]: Number of verticies (11903) == the number of normals (11903)\u001b[0m\n",
      "Completed model 5\n",
      "\u001b[92mSuccess[/home/ubuntu/imad/formative_models_oriented/model_6/model.obj is good!]: Number of verticies (27890) == the number of normals (27890)\u001b[0m\n",
      "Completed model 6\n",
      "\u001b[92mSuccess[/home/ubuntu/imad/formative_models_oriented/model_7/model.obj is good!]: Number of verticies (14397) == the number of normals (14397)\u001b[0m\n",
      "Completed model 7\n",
      "\u001b[92mSuccess[/home/ubuntu/imad/formative_models_oriented/model_8/model.obj is good!]: Number of verticies (157661) == the number of normals (157661)\u001b[0m\n",
      "Completed model 8\n",
      "\u001b[92mSuccess[/home/ubuntu/imad/formative_models_oriented/model_9/model.obj is good!]: Number of verticies (26797) == the number of normals (26797)\u001b[0m\n",
      "Completed model 9\n",
      "\u001b[92mSuccess[/home/ubuntu/imad/formative_models_oriented/model_10/model.obj is good!]: Number of verticies (19605) == the number of normals (19605)\u001b[0m\n",
      "Completed model 10\n",
      "\u001b[92mSuccess[/home/ubuntu/imad/formative_models_oriented/model_11/model.obj is good!]: Number of verticies (7922) == the number of normals (7922)\u001b[0m\n",
      "Completed model 11\n",
      "\u001b[92mSuccess[/home/ubuntu/imad/formative_models_oriented/model_12/model.obj is good!]: Number of verticies (56915) == the number of normals (56915)\u001b[0m\n",
      "Completed model 12\n",
      "\u001b[92mSuccess[/home/ubuntu/imad/formative_models_oriented/model_13/model.obj is good!]: Number of verticies (15620) == the number of normals (15620)\u001b[0m\n",
      "Completed model 13\n",
      "\u001b[92mSuccess[/home/ubuntu/imad/formative_models_oriented/model_14/model.obj is good!]: Number of verticies (35262) == the number of normals (35262)\u001b[0m\n",
      "Completed model 14\n",
      "\u001b[92mSuccess[/home/ubuntu/imad/formative_models_oriented/model_15/model.obj is good!]: Number of verticies (43241) == the number of normals (43241)\u001b[0m\n",
      "Completed model 15\n",
      "\u001b[92mSuccess[/home/ubuntu/imad/formative_models_oriented/model_16/model.obj is good!]: Number of verticies (17013) == the number of normals (17013)\u001b[0m\n",
      "Completed model 16\n",
      "\u001b[92mSuccess[/home/ubuntu/imad/formative_models_oriented/model_17/model.obj is good!]: Number of verticies (59596) == the number of normals (59596)\u001b[0m\n",
      "Completed model 17\n",
      "\u001b[92mSuccess[/home/ubuntu/imad/formative_models_oriented/model_18/model.obj is good!]: Number of verticies (17381) == the number of normals (17381)\u001b[0m\n",
      "Completed model 18\n",
      "\u001b[92mSuccess[/home/ubuntu/imad/formative_models_oriented/model_19/model.obj is good!]: Number of verticies (15172) == the number of normals (15172)\u001b[0m\n",
      "Completed model 19\n",
      "\u001b[92mSuccess[/home/ubuntu/imad/formative_models_oriented/model_20/model.obj is good!]: Number of verticies (12598) == the number of normals (12598)\u001b[0m\n",
      "Completed model 20\n",
      "\u001b[92mSuccess[/home/ubuntu/imad/formative_models_oriented/model_21/model.obj is good!]: Number of verticies (378237) == the number of normals (378237)\u001b[0m\n",
      "Completed model 21\n",
      "\u001b[92mSuccess[/home/ubuntu/imad/formative_models_oriented/model_22/model.obj is good!]: Number of verticies (5009) == the number of normals (5009)\u001b[0m\n",
      "Completed model 22\n",
      "\u001b[92mSuccess[/home/ubuntu/imad/formative_models_oriented/model_23/model.obj is good!]: Number of verticies (19114) == the number of normals (19114)\u001b[0m\n",
      "Completed model 23\n",
      "\u001b[92mSuccess[/home/ubuntu/imad/formative_models_oriented/model_24/model.obj is good!]: Number of verticies (8631) == the number of normals (8631)\u001b[0m\n",
      "Completed model 24\n",
      "\u001b[92mSuccess[/home/ubuntu/imad/formative_models_oriented/model_25/model.obj is good!]: Number of verticies (6300) == the number of normals (6300)\u001b[0m\n",
      "Completed model 25\n",
      "\u001b[92mSuccess[/home/ubuntu/imad/formative_models_oriented/model_26/model.obj is good!]: Number of verticies (9184) == the number of normals (9184)\u001b[0m\n",
      "Completed model 26\n",
      "\u001b[92mSuccess[/home/ubuntu/imad/formative_models_oriented/model_27/model.obj is good!]: Number of verticies (34562) == the number of normals (34562)\u001b[0m\n",
      "Completed model 27\n",
      "\u001b[92mSuccess[/home/ubuntu/imad/formative_models_oriented/model_28/model.obj is good!]: Number of verticies (18959) == the number of normals (18959)\u001b[0m\n",
      "Completed model 28\n",
      "\u001b[92mSuccess[/home/ubuntu/imad/formative_models_oriented/model_29/model.obj is good!]: Number of verticies (28184) == the number of normals (28184)\u001b[0m\n",
      "Completed model 29\n",
      "\u001b[92mSuccess[/home/ubuntu/imad/formative_models_oriented/model_30/model.obj is good!]: Number of verticies (36224) == the number of normals (36224)\u001b[0m\n",
      "Completed model 30\n",
      "\u001b[92mSuccess[/home/ubuntu/imad/formative_models_oriented/model_31/model.obj is good!]: Number of verticies (51274) == the number of normals (51274)\u001b[0m\n",
      "Completed model 31\n",
      "\u001b[92mSuccess[/home/ubuntu/imad/formative_models_oriented/model_32/model.obj is good!]: Number of verticies (56466) == the number of normals (56466)\u001b[0m\n",
      "Completed model 32\n",
      "\u001b[92mSuccess[/home/ubuntu/imad/formative_models_oriented/model_33/model.obj is good!]: Number of verticies (9161) == the number of normals (9161)\u001b[0m\n",
      "Completed model 33\n",
      "\u001b[92mSuccess[/home/ubuntu/imad/formative_models_oriented/model_34/model.obj is good!]: Number of verticies (10028) == the number of normals (10028)\u001b[0m\n",
      "Completed model 34\n",
      "\u001b[92mSuccess[/home/ubuntu/imad/formative_models_oriented/model_35/model.obj is good!]: Number of verticies (22225) == the number of normals (22225)\u001b[0m\n",
      "Completed model 35\n",
      "\u001b[92mSuccess[/home/ubuntu/imad/formative_models_oriented/model_36/model.obj is good!]: Number of verticies (19997) == the number of normals (19997)\u001b[0m\n",
      "Completed model 36\n",
      "\u001b[92mSuccess[/home/ubuntu/imad/formative_models_oriented/model_37/model.obj is good!]: Number of verticies (17588) == the number of normals (17588)\u001b[0m\n",
      "Completed model 37\n",
      "\u001b[92mSuccess[/home/ubuntu/imad/formative_models_oriented/model_38/model.obj is good!]: Number of verticies (16788) == the number of normals (16788)\u001b[0m\n",
      "Completed model 38\n",
      "\u001b[92mSuccess[/home/ubuntu/imad/formative_models_oriented/model_39/model.obj is good!]: Number of verticies (50323) == the number of normals (50323)\u001b[0m\n",
      "Completed model 39\n",
      "\u001b[92mSuccess[/home/ubuntu/imad/formative_models_oriented/model_40/model.obj is good!]: Number of verticies (9776) == the number of normals (9776)\u001b[0m\n",
      "Completed model 40\n",
      "\u001b[92mSuccess[/home/ubuntu/imad/formative_models_oriented/model_41/model.obj is good!]: Number of verticies (20285) == the number of normals (20285)\u001b[0m\n",
      "Completed model 41\n",
      "\u001b[92mSuccess[/home/ubuntu/imad/formative_models_oriented/model_42/model.obj is good!]: Number of verticies (12272) == the number of normals (12272)\u001b[0m\n",
      "Completed model 42\n",
      "\u001b[92mSuccess[/home/ubuntu/imad/formative_models_oriented/model_43/model.obj is good!]: Number of verticies (14902) == the number of normals (14902)\u001b[0m\n",
      "Completed model 43\n",
      "\u001b[92mSuccess[/home/ubuntu/imad/formative_models_oriented/model_44/model.obj is good!]: Number of verticies (61882) == the number of normals (61882)\u001b[0m\n",
      "Completed model 44\n",
      "\u001b[92mSuccess[/home/ubuntu/imad/formative_models_oriented/model_45/model.obj is good!]: Number of verticies (20932) == the number of normals (20932)\u001b[0m\n",
      "Completed model 45\n",
      "\u001b[92mSuccess[/home/ubuntu/imad/formative_models_oriented/model_46/model.obj is good!]: Number of verticies (6106) == the number of normals (6106)\u001b[0m\n",
      "Completed model 46\n",
      "\u001b[92mSuccess[/home/ubuntu/imad/formative_models_oriented/model_47/model.obj is good!]: Number of verticies (13339) == the number of normals (13339)\u001b[0m\n",
      "Completed model 47\n",
      "\u001b[92mSuccess[/home/ubuntu/imad/formative_models_oriented/model_48/model.obj is good!]: Number of verticies (8901) == the number of normals (8901)\u001b[0m\n",
      "Completed model 48\n",
      "\u001b[92mSuccess[/home/ubuntu/imad/formative_models_oriented/model_49/model.obj is good!]: Number of verticies (15884) == the number of normals (15884)\u001b[0m\n"
     ]
    },
    {
     "name": "stdout",
     "output_type": "stream",
     "text": [
      "Completed model 49\n",
      "\u001b[92mSuccess[/home/ubuntu/imad/formative_models_oriented/model_50/model.obj is good!]: Number of verticies (26351) == the number of normals (26351)\u001b[0m\n",
      "Completed model 50\n"
     ]
    }
   ],
   "source": [
    "for i in range(1, 51):\n",
    "    model_path = f\"{fomrative_dir}/model_{i}/model.obj\"\n",
    "    mesh = import_mesh(model_path, with_normals=True)\n",
    "    _check_mesh(model_path)\n",
    "#     extremas = _get_bases(mesh, e)\n",
    "    \n",
    "#     labels = np.ones((mesh.vertices.shape[0]))\n",
    "#     for axis in axes:\n",
    "#         axis_extremas = extremas[axis]\n",
    "#         for i, extrema in enumerate(axis_extremas):\n",
    "#             for j in extrema:\n",
    "#                 labels[j] = axes_colors[axis][i]\n",
    "    \n",
    "    npz = _obj_to_npz(model_path, output_path=f\"{fomrative_dir}/model_{i}/model_{i}.npz\")\n",
    "#     _npz_to_obj(f\"{fomrative_dir}/model_{i}/model.npz\", f\"{fomrative_dir}/model_{i}/model_bases_segmented\", segment = True)\n",
    "    print(f\"Completed model {i}\")"
   ]
  },
  {
   "cell_type": "markdown",
   "id": "29614d86",
   "metadata": {},
   "source": [
    "#### Display extremas"
   ]
  },
  {
   "cell_type": "code",
   "execution_count": null,
   "id": "d65df143",
   "metadata": {},
   "outputs": [],
   "source": [
    "axis = \"x\"\n",
    "_plot(mesh, extremas[axis][0]) # maximums\n",
    "_plot(mesh, extremas[axis][1]) # minumims"
   ]
  },
  {
   "cell_type": "markdown",
   "id": "9fbaca34",
   "metadata": {},
   "source": [
    "#### Peeling mesh"
   ]
  },
  {
   "cell_type": "code",
   "execution_count": null,
   "id": "41bc655d",
   "metadata": {},
   "outputs": [],
   "source": [
    "axis = axes[0]\n",
    "open_mesh = _get_open_mesh(mesh, extremas, axes)\n",
    "_save_modified_mesh(mesh, extremas[axis][0], maximas_path(mesh_dir, axis))\n",
    "_save_modified_mesh(mesh, extremas[axis][1], minimas_path(mesh_dir, axis))\n",
    "_save_modified_mesh(mesh, open_mesh, open_mesh_path)"
   ]
  },
  {
   "cell_type": "markdown",
   "id": "ef258eee",
   "metadata": {},
   "source": [
    "#### Compute connected components"
   ]
  },
  {
   "cell_type": "code",
   "execution_count": null,
   "id": "dfc8b9aa",
   "metadata": {},
   "outputs": [],
   "source": [
    "_get_connected_components(open_mesh_path, mesh_dir)"
   ]
  },
  {
   "cell_type": "markdown",
   "id": "33028f47",
   "metadata": {},
   "source": [
    "#### Extract layers "
   ]
  },
  {
   "cell_type": "code",
   "execution_count": null,
   "id": "90fab482",
   "metadata": {},
   "outputs": [],
   "source": [
    "ms = pymeshlab.MeshSet()\n",
    "ms.load_new_mesh(mesh_path)\n",
    "bbox = ms.current_mesh().bounding_box()\n",
    "max_ = bbox.max()\n",
    "min_ = bbox.min()\n",
    "cog = _get_center(min_, max_)\n",
    "# print(max_, min_)\n",
    "print(f\"COG: {cog}\")\n",
    "outer, inner = _get_outer_layer(mesh, cog)\n",
    "_save_modified_mesh(mesh, outer, f\"{mesh_dir}/component_x_outer.obj\", cog)\n",
    "_save_modified_mesh(mesh, inner, f\"{mesh_dir}/component_x_inner.obj\", cog)\n",
    "# _plot(mesh, [i for i in range(len(mesh.vertices))])"
   ]
  },
  {
   "cell_type": "code",
   "execution_count": null,
   "id": "18543322",
   "metadata": {},
   "outputs": [],
   "source": []
  }
 ],
 "metadata": {
  "kernelspec": {
   "display_name": "Python3 (ss3d)",
   "language": "python",
   "name": "ss3d"
  },
  "language_info": {
   "codemirror_mode": {
    "name": "ipython",
    "version": 3
   },
   "file_extension": ".py",
   "mimetype": "text/x-python",
   "name": "python",
   "nbconvert_exporter": "python",
   "pygments_lexer": "ipython3",
   "version": "3.9.13"
  }
 },
 "nbformat": 4,
 "nbformat_minor": 5
}

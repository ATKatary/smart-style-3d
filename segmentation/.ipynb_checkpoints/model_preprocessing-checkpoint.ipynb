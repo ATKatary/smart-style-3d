{
 "cells": [
  {
   "cell_type": "markdown",
   "id": "b7c64b59",
   "metadata": {},
   "source": [
    "# Model preprocessing"
   ]
  },
  {
   "cell_type": "markdown",
   "id": "ffe89f17",
   "metadata": {},
   "source": [
    "#### Imports"
   ]
  },
  {
   "cell_type": "code",
   "execution_count": 1,
   "id": "2d7fe7bc",
   "metadata": {},
   "outputs": [],
   "source": [
    "import os\n",
    "import pymeshlab\n",
    "import numpy as np\n",
    "from tqdm import tqdm\n",
    "from segmentation_utils.base_detection import (\n",
    "    _check_mesh\n",
    ")\n",
    "from segmentation_utils.preprocessing import (\n",
    "    _npz_to_obj,\n",
    "    _obj_to_npz,\n",
    "    _prepare_edges_and_kdtree_with_vertices_faces\n",
    ")"
   ]
  },
  {
   "cell_type": "code",
   "execution_count": 2,
   "id": "9e110423",
   "metadata": {},
   "outputs": [],
   "source": [
    "models_dir = \"/home/ubuntu/imad/segmentation/models\"\n",
    "mesh_dir = f\"{models_dir}/vases/vase_1\"\n",
    "mesh_path = f\"{mesh_dir}/vase.obj\"\n",
    "npz_dir = f\"{models_dir}/npz\""
   ]
  },
  {
   "cell_type": "code",
   "execution_count": null,
   "id": "fa3cf146",
   "metadata": {},
   "outputs": [],
   "source": []
  }
 ],
 "metadata": {
  "kernelspec": {
   "display_name": "Python3 (ss3d)",
   "language": "python",
   "name": "ss3d"
  },
  "language_info": {
   "codemirror_mode": {
    "name": "ipython",
    "version": 3
   },
   "file_extension": ".py",
   "mimetype": "text/x-python",
   "name": "python",
   "nbconvert_exporter": "python",
   "pygments_lexer": "ipython3",
   "version": "3.9.13"
  }
 },
 "nbformat": 4,
 "nbformat_minor": 5
}

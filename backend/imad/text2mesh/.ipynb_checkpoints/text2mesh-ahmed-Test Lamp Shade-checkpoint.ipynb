{
 "cells": [
  {
   "cell_type": "markdown",
   "metadata": {},
   "source": [
    "# Text2Mesh - Ahmed"
   ]
  },
  {
   "cell_type": "markdown",
   "metadata": {},
   "source": [
    "### Imports"
   ]
  },
  {
   "cell_type": "code",
   "execution_count": 3,
   "metadata": {
    "scrolled": true
   },
   "outputs": [
    {
     "name": "stdout",
     "output_type": "stream",
     "text": [
      "\u001b[91mFail[./implementation/inputs/Chandelier/sphere_5.obj Deprecated]\u001b[0m\n",
      "\u001b[91mFail[./implementation/inputs/Chandelier/sphere_7.obj Deprecated]\u001b[0m\n",
      "\u001b[92mSuccess[./implementation/inputs/Chandelier/sphere_1.obj is goo!]: Number of verticies (19040) == the number of normals (19040)\u001b[0m\n",
      "\u001b[91mFail[./implementation/inputs/Chandelier/sphere_6.obj Deprecated]\u001b[0m\n",
      "\u001b[91mFail[./implementation/inputs/Chandelier/sphere_2.obj Deprecated]\u001b[0m\n",
      "\u001b[91mFail[./implementation/inputs/Chandelier/sphere_4.obj Deprecated]\u001b[0m\n",
      "\u001b[92mSuccess[./implementation/inputs/Chandelier/sphere_3.obj is goo!]: Number of verticies (19040) == the number of normals (19040)\u001b[0m\n",
      "Found 2 working models in ./implementation/inputs/Chandelier\n"
     ]
    }
   ],
   "source": [
    "import shlex\n",
    "import subprocess\n",
    "%matplotlib inline\n",
    "import matplotlib.image as mpimg\n",
    "from matplotlib import pyplot as plt\n",
    "from implementation.helpers import *\n",
    "\n",
    "make_prompt = lambda content, style: [f\"A {style} {content}\",\n",
    "                                      f\"A {style}-shaped {content}\",\n",
    "                                      f\"{content} that looks like a {style}\",\n",
    "                                      f\"{content} in the style of a {style}\",\n",
    "                                      f\"A flowery {content} that depicts a {style}\",\n",
    "                                      f\"{content} in the style of a beautiful {style}\",\n",
    "                                      f\"An artistic {content} that mimics a beautiful {style}\"]\n",
    "home_dir = \"./implementation\"\n",
    "text2mesh_path = \"./text2mesh\"\n",
    "models_dir = f\"{home_dir}/inputs\"\n",
    "models = get_valid_models(models_dir, models={}, text2mesh_path=text2mesh_path)"
   ]
  },
  {
   "cell_type": "markdown",
   "metadata": {},
   "source": [
    "### Parameters"
   ]
  },
  {
   "cell_type": "code",
   "execution_count": null,
   "metadata": {},
   "outputs": [],
   "source": [
    "run_all = input(\"Run all? (y/n): \")\n",
    "style = input(\"What is the style that I should test? \")\n",
    "content = input(\"What is the content that I should test? \")\n",
    "\n",
    "n_iter = 400 \n",
    "output_dir = \"./implementation/outputs\"\n",
    "if not run_all: \n",
    "    obj, obj_path = select_model(models)\n",
    "    prompts = make_prompt(obj, style)"
   ]
  },
  {
   "cell_type": "markdown",
   "metadata": {},
   "source": [
    "### Test"
   ]
  },
  {
   "cell_type": "code",
   "execution_count": null,
   "metadata": {},
   "outputs": [],
   "source": [
    "if run_all:\n",
    "    for obj, obj_path in models.items():\n",
    "        prompts = make_prompt(obj, style)\n",
    "        for prompt in prompts:\n",
    "            subprocess.call(shlex.split(f\"bash ./implementation/text2mesh.sh {obj_path} {output_dir} '{prompt}' {n_iter + 1} {text2mesh_path} {home_dir}\"))\n",
    "else: \n",
    "    for prompt in prompts:\n",
    "        subprocess.call(shlex.split(f\"bash ./implementation/text2mesh.sh {obj_path} {output_dir} '{prompt}' {n_iter + 1} {text2mesh_path} {home_dir}\"))"
   ]
  },
  {
   "cell_type": "markdown",
   "metadata": {},
   "source": [
    "### Display Results"
   ]
  },
  {
   "cell_type": "code",
   "execution_count": null,
   "metadata": {},
   "outputs": [],
   "source": [
    "f, plot = plt.subplots(2, 1, figsize=(12, 5))\n",
    "before_image = mpimg.imread(f\"{output_dir}/{obj}_iters/iter_0.jpg\")\n",
    "after_image = mpimg.imread(f\"{output_dir}/{obj}_iters/iter_{(n_iter // 100) * 100}.jpg\")\n",
    "plot[0].imshow(before_image)\n",
    "plot[1].imshow(after_image)\n",
    "plt.show()"
   ]
  }
 ],
 "metadata": {
  "interpreter": {
   "hash": "cadefa720d1a2267f4d12d08d812560a64cfe891877bc388bf0e8af3e4846067"
  },
  "kernelspec": {
   "display_name": "Python 3 (ipykernel)",
   "language": "python",
   "name": "python3"
  },
  "language_info": {
   "codemirror_mode": {
    "name": "ipython",
    "version": 3
   },
   "file_extension": ".py",
   "mimetype": "text/x-python",
   "name": "python",
   "nbconvert_exporter": "python",
   "pygments_lexer": "ipython3",
   "version": "3.7.12"
  }
 },
 "nbformat": 4,
 "nbformat_minor": 2
}
